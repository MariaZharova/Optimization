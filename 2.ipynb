{
 "cells": [
  {
   "cell_type": "markdown",
   "metadata": {
    "id": "GY2gy0gydxVi"
   },
   "source": [
    "Домашнее задание 2. \n",
    "\n",
    "The file should be sent in the `.pdf` format created via $\\LaTeX$ or [typora](<https://typora.io/>) or printed from pdf with the colab\\jupyter notebook. The only handwritten part, that could be included in the solution are the figures and illustrations.\n",
    "\n",
    "**Deadline: 08.05.22 21:59:59**"
   ]
  },
  {
   "cell_type": "markdown",
   "metadata": {
    "id": "JxPhpWe-gxqB"
   },
   "source": [
    "# 😱 Newton convergence issue\n",
    "Рассмотрите следующую функцию:\n",
    "\n",
    "$$\n",
    "f(x,y) = \\dfrac{x^4}{4} - x^2 + 2x + (y-1)^2\n",
    "$$\n",
    "\n",
    "И точку старта $x_0 = (0,2)^\\top$. Как ведет себя метод Ньютона, запущенный с этой точки? Чем это можно объяснить? \n",
    "\n",
    "Как ведет себя градиентный спуск с фикисрованным шагом $\\alpha = 0.01$ и метод наискорейшего спуска в таких же условиях?\n",
    "(в этом задании не обязательно показывать численные симуляции)"
   ]
  },
  {
   "cell_type": "markdown",
   "metadata": {
    "id": "dZ90Mu7Jg8U6"
   },
   "source": [
    "<font color=\"lime\"> ==YOUR ANSWER== </font>\n",
    "\n",
    "Найдём Гессиан данной функции:\n",
    "\n",
    "$\\nabla f = \\begin{pmatrix}\n",
    "  x^3 - 2x + 2\\\\\n",
    "  2(y - 1)\n",
    "\\end{pmatrix}, \\; \\; \\;\n",
    "\\nabla ^2 f = \\begin{pmatrix}\n",
    "  3x^2 - 2 & 0\\\\\n",
    "  0 & 2\n",
    "\\end{pmatrix} \\; \\;$\n",
    "\n",
    "Заметим, что не при всех $x$ матрица Гессиана положительно определена - в том числе, в начальной точке $x=0\\Rightarrow$ метод Ньютона не будет сходиться. Посчитаем несколько итераций, чтобы увидеть, что происходит:\n",
    "\n",
    "1. $\\nabla f \\begin{pmatrix}\n",
    "  0\\\\\n",
    "  2\n",
    "\\end{pmatrix} = \n",
    "\\begin{pmatrix}\n",
    "  2\\\\\n",
    "  2\n",
    "\\end{pmatrix}, \\; \\; \\;\n",
    "\\nabla ^2 f \\begin{pmatrix}\n",
    "  0\\\\\n",
    "  2\n",
    "\\end{pmatrix} = \n",
    "\\begin{pmatrix}\n",
    "  - 2 & 0\\\\\n",
    "  0 & 2\n",
    "\\end{pmatrix}, \\; \\; \\;\n",
    "(\\nabla ^2 f)^{-1} \\begin{pmatrix}\n",
    "  0\\\\\n",
    "  2\n",
    "\\end{pmatrix} = \n",
    "\\begin{pmatrix}\n",
    "  - 0.5 & 0\\\\\n",
    "  0 & 0.5\n",
    "\\end{pmatrix}\\;\\;\\;\\Rightarrow\\;\\;\\;\n",
    "x_1 = \\begin{pmatrix}\n",
    "  0\\\\\n",
    "  2\n",
    "\\end{pmatrix} - \n",
    "\\begin{pmatrix}\n",
    "  -1\\\\\n",
    "  1\n",
    "\\end{pmatrix} = \n",
    "\\begin{pmatrix}\n",
    "  1\\\\\n",
    "  1\n",
    "\\end{pmatrix}\n",
    "$\n",
    "\n",
    "$\\;\\;$\n",
    "\n",
    "2. $\\nabla f \\begin{pmatrix}\n",
    "  1\\\\\n",
    "  1\n",
    "\\end{pmatrix} = \n",
    "\\begin{pmatrix}\n",
    "  1\\\\\n",
    "  0\n",
    "\\end{pmatrix}, \\; \\; \\;\n",
    "\\nabla ^2 f \\begin{pmatrix}\n",
    "  1\\\\\n",
    "  1\n",
    "\\end{pmatrix} = \n",
    "\\begin{pmatrix}\n",
    "  1 & 0\\\\\n",
    "  0 & 2\n",
    "\\end{pmatrix}, \\; \\; \\;\n",
    "(\\nabla ^2 f)^{-1} \\begin{pmatrix}\n",
    "  0\\\\\n",
    "  2\n",
    "\\end{pmatrix} = \n",
    "\\begin{pmatrix}\n",
    "  1 & 0\\\\\n",
    "  0 & 0.5\n",
    "\\end{pmatrix}\\;\\;\\;\\Rightarrow\\;\\;\\;\n",
    "x_2 = \\begin{pmatrix}\n",
    "  1\\\\\n",
    "  1\n",
    "\\end{pmatrix} - \n",
    "\\begin{pmatrix}\n",
    "  1\\\\\n",
    "  0\n",
    "\\end{pmatrix} = \n",
    "\\begin{pmatrix}\n",
    "  0\\\\\n",
    "  1\n",
    "\\end{pmatrix}\n",
    "$\n",
    "\n",
    "$\\;\\;$\n",
    "\n",
    "3. $\\nabla f \\begin{pmatrix}\n",
    "  0\\\\\n",
    "  1\n",
    "\\end{pmatrix} = \n",
    "\\begin{pmatrix}\n",
    "  2\\\\\n",
    "  0\n",
    "\\end{pmatrix}, \\; \\; \\;\n",
    "\\nabla ^2 f \\begin{pmatrix}\n",
    "  0\\\\\n",
    "  1\n",
    "\\end{pmatrix} = \n",
    "\\begin{pmatrix}\n",
    "  -2 & 0\\\\\n",
    "  0 & 2\n",
    "\\end{pmatrix}, \\; \\; \\;\n",
    "(\\nabla ^2 f)^{-1} \\begin{pmatrix}\n",
    "  0\\\\\n",
    "  1\n",
    "\\end{pmatrix} = \n",
    "\\begin{pmatrix}\n",
    "  -0.5 & 0\\\\\n",
    "  0 & 0.5\n",
    "\\end{pmatrix}\\;\\;\\;\\Rightarrow\\;\\;\\;\n",
    "x_3 = \\begin{pmatrix}\n",
    "  0\\\\\n",
    "  1\n",
    "\\end{pmatrix} - \n",
    "\\begin{pmatrix}\n",
    "  -1\\\\\n",
    "  0\n",
    "\\end{pmatrix} = \n",
    "\\begin{pmatrix}\n",
    "  1\\\\\n",
    "  1\n",
    "\\end{pmatrix}\n",
    "$\n",
    "\n",
    "Таким образом, вернулись к результату предыдущей итерации - далее будем переходить туда-сюда между значениями $x_2$ и $x_3$ и никогда не сойдёмся; теоретическое объяснение подтверждено.\n",
    "\n",
    "Если рассмотреть несколько итераций градиентного и наискорейшего спусков, то можно видеть, как они небольшими шагами продвигаются к решению. В этих методах при расчётах используется только градиент (Гессиана нет), на него ограничений не накладывается, других тоже нет $\\Rightarrow$ при помощи этих методов будет найден ближайший к начальному приближению локальный минимум функции."
   ]
  },
  {
   "cell_type": "markdown",
   "metadata": {
    "id": "Sw9RgAzrhljU"
   },
   "source": [
    "# 🥸 Quasi Comparison\n",
    "Реализуйте на языке python:\n",
    "* метод Ньютона\n",
    "* метод SR-1\n",
    "\n",
    "для минимизации следующих функций:\n",
    "* Квадратичная форма $f(x) = \\dfrac{1}{2}x^\\top A x + b^\\top x, \\quad x \\in \\mathbb{R}^n, A \\in \\mathbb{S}_+^{n \\times n}$. Попробуйте n = 2, 50, 228\n",
    "* Функция Розенброка $f(x, y) = (1-x)^2 + 100(y-x^2)^2 .\\quad$\n",
    "\n",
    "Сравните 2 реализованных Вами метода И [метод](https://docs.scipy.org/doc/scipy/reference/optimize.minimize-bfgs.html) `BFGS` из библиотеки `scipy`, а так же его модификацию [L-BFGS](https://docs.scipy.org/doc/scipy/reference/optimize.minimize-lbfgsb.html) в решении задачи минимизации описанных выше функций. точку старта необходимо инициализировать одинаковую для всех методов в рамках одного запуска. Необходимо провести не менее 10 запусков для каждого метода на каждой функции до достижения того критерия остановки, который вы выберете (например, расстояние до точки оптимума - во всех задачах мы её знаем)\n",
    "\n",
    "В качестве результата нужно заполнить следующие таблички, заполнив в них усредненное по числу запусков количество итераций, необходимых для сходимости и времени работы:\n",
    "\n",
    "Критерий остановки `расстояние до точки оптимума, 1e-7`\n",
    "\n",
    "Число запусков `15`\n",
    "\n",
    "P.S. если в силу каких то причин Вам не удалось сделать задание полностью, попробуйте сфокусироваться хотя бы на его части.\n",
    "\n",
    "| Квадратичная форма. n = 2 | Iterations |         Time        |\n",
    "|:-------------------------:|:----------:|:-------------------:|\n",
    "|           Newton          |     1      | $4.63\\cdot 10^{-5}$ |\n",
    "|            SR-1           |     3      | $1.03\\cdot 10^{-2}$ |\n",
    "|            BFGS           |     4      | $4.62\\cdot 10^{-3}$ |\n",
    "|           L-BFGS          |     18     | $6.45\\cdot 10^{-3}$ |\n",
    "\n",
    "| Квадратичная форма. n = 50 | Iterations |         Time        |\n",
    "|:--------------------------:|:----------:|:-------------------:|\n",
    "|           Newton           |     1      | $1.41\\cdot 10^{-4}$ |\n",
    "|            SR-1            |     3      | $1.06\\cdot 10^{-2}$ |\n",
    "|            BFGS            |     3      | $5.64\\cdot 10^{-3}$ |\n",
    "|           L-BFGS           |     20     | $1.05\\cdot 10^{-2}$ |\n",
    "\n",
    "\n",
    "| Квадратичная форма. n = 228 | Iterations |         Time        |\n",
    "|:---------------------------:|:----------:|:-------------------:|\n",
    "|           Newton            |     1      | $1.50\\cdot 10^{-3}$ |\n",
    "|            SR-1             |     3      | $5.33\\cdot 10^{-2}$ |\n",
    "|            BFGS             |     3      | $2.84\\cdot 10^{-2}$ |\n",
    "|           L-BFGS            |     31     | $8.86\\cdot 10^{-2}$ |\n",
    "\n",
    "| Функция Розенброка        | Iterations |         Time        |\n",
    "|:-------------------------:|:----------:|:-------------------:|\n",
    "|           Newton          |     4      | $2.16\\cdot 10^{-4}$ |\n",
    "|            SR-1           |     43     | $1.02\\cdot 10^{-2}$ |\n",
    "|            BFGS           |     143    | $1.03\\cdot 10^{-2}$ |\n",
    "|           L-BFGS          |     68     | $2.28\\cdot 10^{-3}$ |"
   ]
  },
  {
   "cell_type": "code",
   "execution_count": null,
   "metadata": {
    "id": "rd9_4_rUbLgN"
   },
   "outputs": [],
   "source": [
    "import numpy as np\n",
    "from numpy.linalg import norm as norm\n",
    "from scipy.optimize import minimize_scalar\n",
    "import warnings\n",
    "warnings.filterwarnings(\"ignore\")\n",
    "\n",
    "# Квадратичная форма, её градиент и гессиан\n",
    "def Q(x):\n",
    "    return 0.5 * x.T @ A @ x + b.T @ x\n",
    "\n",
    "def dQ(x):\n",
    "    return 0.5 * (A + A.T) @ x + b\n",
    "\n",
    "def ddQ(x):\n",
    "    return 0.5 * (A + A.T)\n",
    "\n",
    "# Функция Розенброка, её градиент и гессиан\n",
    "def R(x):\n",
    "    return (1 - x[0]) ** 2 + 100 * (x[1] - x[0] ** 2) ** 2\n",
    "\n",
    "def dR(x):\n",
    "    return np.array([2 * (x[0] - 1) - 400 * x[0] * (x[1] - x[0] ** 2), 200 * (x[1] - x[0] ** 2)])\n",
    "\n",
    "def ddR(x):\n",
    "    return np.array([[2 - 400 * x[1] + 1200 * x[0] ** 2, -400 * x[0]], [-400 * x[0], 200]])\n",
    "\n",
    "\n",
    "def newton(df, ddf, x0, x_opt, eps):\n",
    "    \"\"\" Метод Ньютона;\n",
    "        Вход: градиент, гессиан, нач. прибл., опт. значение, точность;\n",
    "        Выход: кол-вот итераций, оптимальный х.\n",
    "    \"\"\"\n",
    "    x = x0.copy()\n",
    "    niter = 0\n",
    "    while np.linalg.norm(x - x_opt) > eps:\n",
    "        x -= np.linalg.inv(ddf(x)) @ df(x)\n",
    "        niter += 1\n",
    "        #print(x)\n",
    "    return niter, x\n",
    "\n",
    "def SR1(f, df, x0, H0, x_opt, eps):\n",
    "    \"\"\" Метод SR-1;\n",
    "        Вход: функция, градиент, нач. прибл. x и гессиана, опт. значение, точность;\n",
    "        Выход: кол-вот итераций, оптимальный х.\n",
    "    \"\"\"\n",
    "    niter = 0\n",
    "    x = x0.copy()\n",
    "    H = H0.copy()\n",
    "    while norm(x - x_opt) > eps:\n",
    "        p = - H @ df(x)\n",
    "        alpha = minimize_scalar(lambda alpha: f(x + alpha * p)).x\n",
    "\n",
    "        dx = alpha * p\n",
    "        dy = df(x + dx) - df(x)\n",
    "        niter += 1\n",
    "        z = np.matrix(dx - H @ dy) \n",
    "        H += z.T @ z / (z @ dy)     \n",
    "        x = x + dx \n",
    "        \n",
    "    return niter, x"
   ]
  },
  {
   "cell_type": "code",
   "execution_count": null,
   "metadata": {
    "id": "ez--2HXLbLgO",
    "outputId": "9b1ee29d-75ab-4524-dc78-20af41738ac3"
   },
   "outputs": [
    {
     "name": "stdout",
     "output_type": "stream",
     "text": [
      "[-0.43478261 -2.26086957]\n",
      "Newton for Q: (1, array([-0.43478261, -2.26086957]))\n",
      "Newton for R: (4, array([1., 1.]))\n"
     ]
    }
   ],
   "source": [
    "# Протестируем метод Ньютона\n",
    "# оптимальные значения для обоих функкций найдены аналитически\n",
    "A = np.array([[2, 1], [0, 3]])\n",
    "b = np.array([2, 7])\n",
    "x_opt_Q = np.linalg.inv(A + A.T) @ (-2 * b)\n",
    "print(x_opt_Q)\n",
    "x_opt_R = np.array([1, 1])\n",
    "\n",
    "print('Newton for Q:', newton(dQ, ddQ, np.array([-100.0, -200.0]), x_opt_Q, 1e-7))\n",
    "print('Newton for R:', newton(dR, ddR, np.array([-100.0, -200.0]), x_opt_R, 1e-7))"
   ]
  },
  {
   "cell_type": "code",
   "execution_count": null,
   "metadata": {
    "id": "L2mJzlJobLgO",
    "outputId": "4840ca4e-38ff-4ccd-cb96-a729686d0a8d"
   },
   "outputs": [
    {
     "name": "stdout",
     "output_type": "stream",
     "text": [
      "[-0.43478261 -2.26086957]\n",
      "SR1 for Q: (2, array([-0.43478262, -2.26086956]))\n",
      "SR1 for R: (25, array([1., 1.]))\n"
     ]
    }
   ],
   "source": [
    "# Протестируем метод SR-1\n",
    "A = np.array([[2, 1], [0, 3]])\n",
    "b = np.array([2, 7])\n",
    "x0 = np.array([3.0, 3.0])\n",
    "H0 = np.eye(2)\n",
    "x_opt_Q = np.linalg.inv(A + A.T) @ (-2 * b)\n",
    "print(x_opt_Q)\n",
    "x_opt_R = np.array([1, 1])\n",
    "\n",
    "print('SR1 for Q:', SR1(Q, dQ, x0, H0, x_opt_Q, 1e-7))\n",
    "print('SR1 for R:', SR1(R, dR, x0, H0, x_opt_R, 1e-7))"
   ]
  },
  {
   "cell_type": "code",
   "execution_count": null,
   "metadata": {
    "id": "VbK7l3f-bLgP"
   },
   "outputs": [],
   "source": [
    "from scipy.optimize import minimize\n",
    "import time\n",
    "\n",
    "def experiment_Q(x0, H0, f, df, ddf, x_opt):\n",
    "    \"\"\"\n",
    "        Вспомогательная функция для запусков всех методов для различных n;\n",
    "        Вход: начальное приближение x и гессиана;\n",
    "        Выход: массивы средних значений времени работы и кол-ва итераций.\n",
    "    \"\"\"\n",
    "    times = np.zeros((4, 15))\n",
    "    iterations = np.zeros((4, 15))\n",
    "    for i in range(15):\n",
    "        # Newton\n",
    "        start = time.time()\n",
    "        niter = newton(df, ddf, x0, x_opt, 1e-7)[0]\n",
    "        times[0, i] = time.time() - start\n",
    "        iterations[0, i] = niter\n",
    "        \n",
    "        # SR-1\n",
    "        start = time.time()\n",
    "        niter = SR1(f, df, x0, H0, x_opt, 1e-7)[0]\n",
    "        times[1, i] = time.time() - start\n",
    "        iterations[1, i] = niter\n",
    "        \n",
    "        # BFGS\n",
    "        start = time.time()\n",
    "        niter = minimize(f, x0, method='BFGS', jac=df, hess=ddf, tol=1e-7).nit\n",
    "        times[2, i] = time.time() - start\n",
    "        iterations[2, i] = niter\n",
    "        \n",
    "        # L-BFGS\n",
    "        start = time.time()\n",
    "        niter = minimize(f, x0, method='L-BFGS-B', jac=df, hess=ddf, tol=1e-7).nit\n",
    "        times[3, i] = time.time() - start\n",
    "        iterations[3, i] = niter\n",
    "    return np.mean(times, axis=1), np.mean(iterations, axis=1)"
   ]
  },
  {
   "cell_type": "code",
   "execution_count": null,
   "metadata": {
    "id": "GYjqspbGbLgP",
    "outputId": "71618c7b-6819-4c15-8eba-31adbbe93c5c"
   },
   "outputs": [
    {
     "name": "stdout",
     "output_type": "stream",
     "text": [
      "n = 2: (array([4.63167826e-05, 1.02661451e-02, 4.62077459e-03, 6.44996961e-03]), array([ 1.,  3.,  4., 18.]))\n",
      "n = 50: (array([0.00014078, 0.01059888, 0.00563936, 0.01046214]), array([ 1.,  3.,  3., 20.]))\n",
      "n = 228: (array([0.00149048, 0.05331141, 0.02841269, 0.08859194]), array([ 1.,  3.,  3., 31.]))\n"
     ]
    }
   ],
   "source": [
    "# Проводим необходимые эксперименты, результаты занесены в таблички в начале\n",
    "# Здесь для квадратичной формы\n",
    "\n",
    "np.random.seed(48)\n",
    "\n",
    "A = np.random.randint(0, 10, (2, 2))\n",
    "b = np.random.randint(0, 20, 2)\n",
    "x0 = np.array([23.0, 35.0])\n",
    "H0 = np.eye(2)\n",
    "x_opt_Q = np.linalg.inv(A + A.T) @ (-2 * b)\n",
    "print('n = 2:', experiment_Q(x0, H0, Q, dQ, ddQ, x_opt_Q))\n",
    "\n",
    "A = np.random.randint(0, 10, (50, 50))\n",
    "b = np.random.randint(0, 20, 50)\n",
    "x0 = np.array([23.0] * 50)\n",
    "H0 = np.eye(50)\n",
    "x_opt_Q = np.linalg.inv(A + A.T) @ (-2 * b)\n",
    "print('n = 50:', experiment_Q(x0, H0, Q, dQ, ddQ, x_opt_Q))\n",
    "\n",
    "A = np.random.randint(0, 10, (228, 228))\n",
    "b = np.random.randint(0, 20, 228)\n",
    "x0 = np.array([23.0] * 228)\n",
    "H0 = np.eye(228)\n",
    "x_opt_Q = np.linalg.inv(A + A.T) @ (-2 * b)\n",
    "print('n = 228:', experiment_Q(x0, H0, Q, dQ, ddQ, x_opt_Q))"
   ]
  },
  {
   "cell_type": "code",
   "execution_count": null,
   "metadata": {
    "id": "bqVwVPctbLgP",
    "outputId": "c4f94273-cf14-40f7-e836-512a2253edf2"
   },
   "outputs": [
    {
     "name": "stdout",
     "output_type": "stream",
     "text": [
      "(array([0.00021604, 0.01016822, 0.01033198, 0.00227844]), array([  4.,  43., 143.,  68.]))\n"
     ]
    }
   ],
   "source": [
    "# Для функции Розенброка\n",
    "x_opt_R = np.array([1, 1])\n",
    "x0 = np.array([23.0, 35.0])\n",
    "H0 = np.eye(2)\n",
    "print(experiment_Q(x0, H0, R, dR, ddR, x_opt_R))"
   ]
  },
  {
   "cell_type": "markdown",
   "metadata": {
    "id": "NiCGN2NAiIAg"
   },
   "source": [
    "# 😺 Conjugate gradients with preconditioner"
   ]
  },
  {
   "cell_type": "markdown",
   "metadata": {
    "id": "ExP0MQXYiKxj"
   },
   "source": [
    "Метод \n",
    "\n",
    "$\\begin{align}\n",
    "& \\mathbf{r}_0 := \\mathbf{b} - \\mathbf{A x}_0 \\\\\n",
    "& \\hbox{if } \\mathbf{r}_{0} \\text{ is sufficiently small, then return } \\mathbf{x}_{0} \\text{ as the result}\\\\\n",
    "& \\mathbf{p}_0 := \\mathbf{r}_0 \\\\\n",
    "& k := 0 \\\\\n",
    "& \\text{repeat} \\\\\n",
    "& \\qquad \\alpha_k := \\frac{\\mathbf{r}_k^\\mathsf{T} \\mathbf{r}_k}{\\mathbf{p}_k^\\mathsf{T} \\mathbf{A p}_k}  \\\\\n",
    "& \\qquad \\mathbf{x}_{k+1} := \\mathbf{x}_k + \\alpha_k \\mathbf{p}_k \\\\\n",
    "& \\qquad \\mathbf{r}_{k+1} := \\mathbf{r}_k - \\alpha_k \\mathbf{A p}_k \\\\\n",
    "& \\qquad \\hbox{if } \\mathbf{r}_{k+1} \\text{ is sufficiently small, then exit loop} \\\\\n",
    "& \\qquad \\beta_k := \\frac{\\mathbf{r}_{k+1}^\\mathsf{T} \\mathbf{r}_{k+1}}{\\mathbf{r}_k^\\mathsf{T} \\mathbf{r}_k} \\\\\n",
    "& \\qquad \\mathbf{p}_{k+1} := \\mathbf{r}_{k+1} + \\beta_k \\mathbf{p}_k \\\\\n",
    "& \\qquad k := k + 1 \\\\\n",
    "& \\text{end repeat} \\\\\n",
    "& \\text{return } \\mathbf{x}_{k+1} \\text{ as the result}\n",
    "\\end{align}$\n",
    "\n",
    "В этом задании Вам предлагается рассмотреть как влияют предобуславливатели на время работы метода сопряженных градиентов.\n",
    "\n",
    "Рассмотрим задачу минимизации квадратичной функции:\n",
    "\n",
    "$$f(x) = \\frac{1}{2}x^\\top Ax -b^\\top x$$\n",
    "\n",
    "где $A\\in \\mathbb{S}^{n}_{++}$, $b \\in \\mathbb{R}^{n}$.\n",
    "\n",
    "Как мы знаем, эта задача выпукла и минимум находится из условия $\\nabla f(x^*) =Ax^*-b= 0$. То есть для решения задачи необходимо разрешить систему уравнений $Ax=b$. Можно просто применить метод сопряженных градиентов, но если матрица плохо обусловлена ($\\frac{\\lambda_{max}}{\\lambda_{min}}>>1$), метод работает  медленно (буквально, скорость сходимости CG прямо пропорциональна $\\sqrt{\\kappa(A)}$).\n",
    "\n",
    "### Preconditioning\n",
    "\n",
    "Один из способов борьбы с этим - [использование](https://stanford.edu/class/ee364b/lectures/conj_grad_slides.pdf) матриц-предобуславливателей разных видов и последующее решение другой задачи:\n",
    "\n",
    "$$M A x = Mb$$\n",
    "\n",
    "Здесь матрица **предобуславливателя** $M$ подбирается таким образом, чтобы итоговая матрица $\\tilde{A} = M^{-1} A$ имела меньшее число обусловленности. Существует несколько довольно простых, но зачастую сильно улучшающих работу метода предоубславливателей:\n",
    "\n",
    "* $M = A^{-1}$ (Ideal preconditioner)\n",
    "* $M = $ diag($A_{11},A_{22}...A_{nn}$) (Jacobi)\n",
    "* $M \\approx \\hat A$, где например $\\hat A$ - неполная [факторизация](http://www.math.iit.edu/~fass/477577_Chapter_16.pdf) Холецкого\n",
    "\n",
    "###  Preconditioned Conjugate Gradients\n",
    "Нет никаких проблем в том, чтобы решать новую систему $\\tilde{A}x = \\tilde{b}$ методов сопряженных градиентов. Однако, нативное встраивание предобуславливателя в алгоритм, делает использование этой идеи еще более эффективной. Для этого надо детально модифицировать классический CG. Кроме того, мы потребуем положительности новой матрицы $\\tilde{A}$. Для этого будем использовать следующий вариант построения матрицы $M$:\n",
    "\n",
    "$$\n",
    "M^{-1} = LL^\\top\n",
    "$$\n",
    "\n",
    "$$\n",
    "\\begin{split}\n",
    "Ax = b &\\leftrightarrow M^{-1}Ax = M^{-1}b \\\\\n",
    "&\\leftrightarrow L^\\top Ax = L^\\top b \\\\\n",
    "&\\leftrightarrow \\underbrace{L^\\top A L}_{\\tilde{A}} \\cdot \\underbrace{L^{-1}x}_{\\tilde{x}} = \\underbrace{L^\\top b}_{\\tilde{b}}\n",
    "\\end{split}\n",
    "$$\n",
    "\n",
    "В новых переменных ($\\tilde{A}, \\tilde{x}, \\tilde{b}$) невязка запишется, как:\n",
    "\n",
    "$$\n",
    "\\tilde{r}_k = \\tilde{b} - \\tilde{A}\\tilde{x}_k = L^\\top b - (L^\\top A L)(L^{-1}x_k) = L^\\top b - L^\\top Ax_k = L^\\top r_k\n",
    "$$\n",
    "\n",
    "\n",
    "Факторизация Холецкого s.p.d. матрицы A - ее разложение на произведение нижнетреугольной и верхнетреугольной матрицы: $A = L^TL$ [wiki](https://en.wikipedia.org/wiki/Cholesky_decomposition).  Есть несколько упрощений этого алгоритма, позволяющих получить матрицу, \"похожую\" на A. Мы будем использовать следующую:  $if \\quad (a_{i,j} =0) \\rightarrow l_{i,j} = 0$, а далее по алгоритму.\n",
    "\n",
    "**Задание** Выбрать 1 задачу [отсюда](https://sparse.tamu.edu ) (выбирайте формат matrix market - его умеет читать [scipy](https://docs.scipy.org/doc/scipy/reference/generated/scipy.io.mmread.html) ), исследовать как влияет на скорость сходимости тот или иной предоубславливатель:\n",
    "\n",
    "1) Сравнить число итераций, за которое метод сходится с точностью $10^{-7}$ для двух предобуславливателей и для обычного метода сопряженных градиентов.\n",
    "\n",
    "2) Построить графики зависимости нормы невязки $\\|r_k\\| = \\|Ax_k - b\\|$ от номера итерации для трех предобуславливателей и для обычного метода сопряженных градиентов. Обратите внимание, что в этом задании можно использовать дефолтный метод сопряженных градиентов из [scipy](https://docs.scipy.org/doc/scipy/reference/generated/scipy.sparse.linalg.cg.html) - там есть возможность в качестве аргумента передать preconditioner.\n",
    "\n",
    "3) Сравнить итоговое время работы методов до сходимости. Обратите внимание, что для честного сравнения по времени не стоит использовать дополнительных сложных callback-ов.\n",
    "\n",
    "Пример:\n",
    "\n",
    "![](https://pp.userapi.com/c831309/v831309597/108727/JXO7HGHv8r4.jpg)"
   ]
  },
  {
   "cell_type": "markdown",
   "metadata": {
    "id": "iZ5KnWqV3Lw5"
   },
   "source": [
    "<font color=\"lime\"> ==YOUR ANSWER== </font>\n",
    "\n",
    "со стр. 26-27 [отсюда](https://stanford.edu/class/ee364b/lectures/conj_grad_slides.pdf) в первом случае $M = A^{-1}$, во втором $M = diag(1/A_{11}, ..., 1/A_{nn}) = (diag(1/A_{11}, ..., 1/A_{nn}))^{-1}$, и последний $M = (LL^T)^{-1}$, если не инвертировать последние два случая, эффективность не улучшается:("
   ]
  },
  {
   "cell_type": "code",
   "execution_count": null,
   "metadata": {
    "colab": {
     "base_uri": "https://localhost:8080/"
    },
    "id": "Dw7SB25zbLgR",
    "outputId": "59e7b804-8d5f-47fe-fd2d-a383fe78b6d2",
    "scrolled": true
   },
   "outputs": [
    {
     "name": "stdout",
     "output_type": "stream",
     "text": [
      "Исходная матрица: 134\n",
      "inv(A) @ A: 1\n",
      "diag(A): 27\n",
      "Холецкий: 1\n"
     ]
    }
   ],
   "source": [
    "import matplotlib.pyplot as plt\n",
    "import numpy as np\n",
    "from numpy.linalg import norm\n",
    "import scipy\n",
    "from scipy.io import mmread\n",
    "import warnings\n",
    "warnings.filterwarnings(\"ignore\")\n",
    "\n",
    "def conj_grad(A0, b0, x0, eps, A=None, b=None):\n",
    "    \"\"\"\n",
    "        Реализация метода сопряжённых градиентов из описания\n",
    "        с модификацией для сохранения значения невязки на каждом шаге\n",
    "    \"\"\"\n",
    "    if A is None and b is None:\n",
    "        A = A0.copy()\n",
    "        b = b0.copy()\n",
    "    r = b - A @ x0\n",
    "    if norm(r) <= eps:\n",
    "        return x0\n",
    "    p = r\n",
    "    x = x0.copy()\n",
    "    resid0 = [norm(A @ x0 - b)]\n",
    "    resid1 = [norm(A0 @ x0 - b0)]\n",
    "    k = 1\n",
    "    while norm(r) > eps:\n",
    "        alpha = (r.T @ r) / (p.T @ A @ p)\n",
    "        x += alpha * p\n",
    "        resid0.append(norm(A0 @ x - b0))\n",
    "        resid1.append(norm(A @ x - b))\n",
    "        r_next = r - alpha * A @ p\n",
    "        if norm(r_next) < eps:\n",
    "            break\n",
    "        betta = (r_next.T @ r_next) / (r.T @ r)\n",
    "        p = r_next + betta * p\n",
    "        r = r_next\n",
    "        k += 1\n",
    "    return k, resid0, resid1\n",
    "\n",
    "# 1). Сравним число итераций:\n",
    "np.random.seed(99)\n",
    "\n",
    "A = mmread('Chem97ZtZ.mtx').toarray()\n",
    "n = A.shape[0]\n",
    "b = A @ np.random.rand(n) + np.random.normal(0, 1, n)\n",
    "x0 = np.ones(n)\n",
    "res0 = conj_grad(A, b, x0, 1e-7)\n",
    "print('Исходная матрица:', res0[0])\n",
    "\n",
    "M = np.linalg.inv(A)\n",
    "A1 = M @ A\n",
    "b1 = M @ b\n",
    "res1 = conj_grad(A, b, x0, 1e-7, A=A1, b=b1)\n",
    "print('inv(A) @ A:', res1[0])\n",
    "\n",
    "M = np.linalg.inv(np.diag(np.diag(A)))\n",
    "A2 = M @ A\n",
    "b2 = M @ b\n",
    "res2 = conj_grad(A, b, x0, 1e-7, A=A2, b=b2)\n",
    "print('diag(A):', res2[0])\n",
    "\n",
    "L = np.linalg.cholesky(A)\n",
    "M = np.linalg.inv(L @ L.T)\n",
    "A3 = M @ A\n",
    "b3 = M @ b\n",
    "res3 = conj_grad(A, b, x0, 1e-7, A=A3, b=b3)\n",
    "print('Холецкий:', res3[0])"
   ]
  },
  {
   "cell_type": "code",
   "execution_count": null,
   "metadata": {
    "colab": {
     "base_uri": "https://localhost:8080/",
     "height": 649
    },
    "id": "iPoF1YAEbLgR",
    "outputId": "3d9cff12-0289-4eb3-a023-4ae2a2d03056"
   },
   "outputs": [
    {
     "data": {
      "image/png": "[encoded data removed]",
      "text/plain": [
       "<Figure size 504x360 with 1 Axes>"
      ]
     },
     "metadata": {
      "needs_background": "light"
     },
     "output_type": "display_data"
    },
    {
     "data": {
      "image/png": "[encoded data removed]",
      "text/plain": [
       "<Figure size 504x360 with 1 Axes>"
      ]
     },
     "metadata": {
      "needs_background": "light"
     },
     "output_type": "display_data"
    }
   ],
   "source": [
    "# 2). Построим график зависимости невязки от номера итерации:\n",
    "\n",
    "# невязку рассчитываем как r = ||A0 @ x - b0||, A0 и b0 - исходные данные\n",
    "plt.figure(figsize=(7, 5))\n",
    "plt.plot([i for i in range(len(res0[1]))], res0[1], label='No preconditioner')\n",
    "plt.plot([i for i in range(len(res1[1]))], res1[2], label='Ideal preconditioner')\n",
    "plt.plot([i for i in range(len(res2[1]))], res2[2], label='Jacobi')\n",
    "plt.plot([i for i in range(len(res3[1]))], res3[2], label='Cholesky factorization')\n",
    "plt.xlabel('iteration number')\n",
    "plt.ylabel('residual')\n",
    "plt.title('')\n",
    "plt.legend()\n",
    "plt.show()\n",
    "\n",
    "# здесь r = ||A @ x - b||, A и b - данные, умноженные на предобуславливатель\n",
    "plt.figure(figsize=(7, 5))\n",
    "plt.plot([i for i in range(len(res0[1]))], res0[1], label='No preconditioner')\n",
    "plt.plot([i for i in range(len(res1[1]))], res1[1], label='Ideal preconditioner')\n",
    "plt.plot([i for i in range(len(res2[1]))], res2[1], label='Jacobi')\n",
    "plt.plot([i for i in range(len(res3[1]))], res3[1], label='Cholesky factorization')\n",
    "plt.xlabel('iteration number')\n",
    "plt.ylabel('residual')\n",
    "plt.title('')\n",
    "plt.legend()\n",
    "plt.show()"
   ]
  },
  {
   "cell_type": "code",
   "execution_count": null,
   "metadata": {
    "colab": {
     "base_uri": "https://localhost:8080/"
    },
    "id": "vqHHYthEqf9T",
    "outputId": "47363250-3b54-4a25-f4f3-52c0d2f8811b"
   },
   "outputs": [
    {
     "name": "stdout",
     "output_type": "stream",
     "text": [
      "1 loop, best of 5: 2.14 s per loop\n"
     ]
    }
   ],
   "source": [
    "# 3). Сравним время работы:\n",
    "%%timeit\n",
    "conj_grad(A, b, x0, 1e-7) # no preconditioner"
   ]
  },
  {
   "cell_type": "code",
   "execution_count": null,
   "metadata": {
    "colab": {
     "base_uri": "https://localhost:8080/"
    },
    "id": "BBlErN-wq5Hq",
    "outputId": "25ee7c40-e6d4-491c-8c5d-c07607f35d05"
   },
   "outputs": [
    {
     "name": "stdout",
     "output_type": "stream",
     "text": [
      "100 loops, best of 5: 20 ms per loop\n"
     ]
    }
   ],
   "source": [
    "%%timeit\n",
    "conj_grad(A, b, x0, 1e-7, A=A1, b=b1) # ideal preconditioner"
   ]
  },
  {
   "cell_type": "code",
   "execution_count": null,
   "metadata": {
    "colab": {
     "base_uri": "https://localhost:8080/"
    },
    "id": "1GbOaoCMq5YE",
    "outputId": "16058f81-eb80-4375-eba2-37e5722a5e7e"
   },
   "outputs": [
    {
     "name": "stdout",
     "output_type": "stream",
     "text": [
      "1 loop, best of 5: 355 ms per loop\n"
     ]
    }
   ],
   "source": [
    "%%timeit\n",
    "conj_grad(A, b, x0, 1e-7, A=A2, b=b2) # Jacobi"
   ]
  },
  {
   "cell_type": "code",
   "execution_count": null,
   "metadata": {
    "colab": {
     "base_uri": "https://localhost:8080/"
    },
    "id": "_5nKlLb-q5ha",
    "outputId": "05b1f2b0-8014-47bb-c7da-68fa31d6cf3b"
   },
   "outputs": [
    {
     "name": "stdout",
     "output_type": "stream",
     "text": [
      "100 loops, best of 5: 20.3 ms per loop\n"
     ]
    }
   ],
   "source": [
    "%%timeit\n",
    "conj_grad(A, b, x0, 1e-7, A=A3, b=b3) # Cholesky factorization"
   ]
  },
  {
   "cell_type": "markdown",
   "metadata": {
    "id": "4fvn6xRPrvak"
   },
   "source": [
    "Лучший результаты показали Ideal preconditioner и метод с факторизацией Холецкого, почти в 20 раз дольше работает Jacobi, и примерно в 100 раз дольше обычное решение без предобуславливателя.\n",
    "\n",
    "Но при использовании предобуславливателей приходится рассчитывать новые матрицы, что тоже может занимать значительное количество времени. Проверим этот момент:"
   ]
  },
  {
   "cell_type": "code",
   "execution_count": null,
   "metadata": {
    "colab": {
     "base_uri": "https://localhost:8080/"
    },
    "id": "N3A0nXqhtUKz",
    "outputId": "76bbdfb1-8526-4a8e-fb51-d24e45a98c17"
   },
   "outputs": [
    {
     "name": "stdout",
     "output_type": "stream",
     "text": [
      "1 loop, best of 5: 1.86 s per loop\n"
     ]
    }
   ],
   "source": [
    "%%timeit\n",
    "# ideal preconditioner\n",
    "M = np.linalg.inv(A)\n",
    "A1 = M @ A\n",
    "b1 = M @ b\n",
    "conj_grad(A, b, x0, 1e-7, A=A1, b=b1)"
   ]
  },
  {
   "cell_type": "code",
   "execution_count": null,
   "metadata": {
    "colab": {
     "base_uri": "https://localhost:8080/"
    },
    "id": "dkzhQTylta6l",
    "outputId": "87dda595-8d08-404d-c66f-1cc169046dde"
   },
   "outputs": [
    {
     "name": "stdout",
     "output_type": "stream",
     "text": [
      "1 loop, best of 5: 2.3 s per loop\n"
     ]
    }
   ],
   "source": [
    "%%timeit\n",
    "# Jacobi\n",
    "M = np.linalg.inv(np.diag(np.diag(A)))\n",
    "A2 = M @ A\n",
    "b2 = M @ b\n",
    "conj_grad(A, b, x0, 1e-7, A=A2, b=b2)"
   ]
  },
  {
   "cell_type": "code",
   "execution_count": null,
   "metadata": {
    "colab": {
     "base_uri": "https://localhost:8080/"
    },
    "id": "aBhEjt0ata_z",
    "outputId": "d6c08b4a-392e-4ede-e78e-8a557ad4ed4e"
   },
   "outputs": [
    {
     "name": "stdout",
     "output_type": "stream",
     "text": [
      "1 loop, best of 5: 2.52 s per loop\n"
     ]
    }
   ],
   "source": [
    "%%timeit\n",
    "# Cholesky factorization\n",
    "L = np.linalg.cholesky(A)\n",
    "M = np.linalg.inv(L @ L.T)\n",
    "A3 = M @ A\n",
    "b3 = M @ b\n",
    "conj_grad(A, b, x0, 1e-7, A=A3, b=b3)"
   ]
  },
  {
   "cell_type": "markdown",
   "metadata": {
    "id": "1SHLyok4uEe7"
   },
   "source": [
    "Видим, что время работы стало значительно больше и даже сравнимо со временем работы обычного метода без предобуславливателя..."
   ]
  },
  {
   "cell_type": "markdown",
   "metadata": {
    "id": "i4CAQjMRL1wF"
   },
   "source": [
    "# 🪅 Stochastic optimization tricks\n",
    "\n",
    "You will study stochastic optimization in the setting of timeseries anomaly detection using an autoencoder.\n",
    "[source](https://keras.io/examples/timeseries/timeseries_anomaly_detection/)"
   ]
  },
  {
   "cell_type": "markdown",
   "metadata": {
    "id": "hDr-LyB6L1wI"
   },
   "source": [
    "## Introduction\n",
    "\n",
    "This script demonstrates how you can use a reconstruction convolutional\n",
    "autoencoder model to detect anomalies in timeseries data."
   ]
  },
  {
   "cell_type": "markdown",
   "metadata": {
    "id": "vlv9x0nxL1wJ"
   },
   "source": [
    "## Setup"
   ]
  },
  {
   "cell_type": "code",
   "execution_count": 56,
   "metadata": {
    "id": "F42DoPCbL1wJ"
   },
   "outputs": [],
   "source": [
    "import numpy as np\n",
    "import pandas as pd\n",
    "import tensorflow as tf\n",
    "from tensorflow import keras\n",
    "from tensorflow.keras import layers\n",
    "from matplotlib import pyplot as plt"
   ]
  },
  {
   "cell_type": "markdown",
   "metadata": {
    "id": "i1TzsEg-L1wK"
   },
   "source": [
    "## Load the data\n",
    "\n",
    "We will use the [Numenta Anomaly Benchmark(NAB)](\n",
    "https://www.kaggle.com/boltzmannbrain/nab) dataset. It provides artifical\n",
    "timeseries data containing labeled anomalous periods of behavior. Data are\n",
    "ordered, timestamped, single-valued metrics.\n",
    "\n",
    "We will use the `art_daily_small_noise.csv` file for training and the\n",
    "`art_daily_jumpsup.csv` file for testing. The simplicity of this dataset\n",
    "allows us to demonstrate anomaly detection effectively."
   ]
  },
  {
   "cell_type": "code",
   "execution_count": 57,
   "metadata": {
    "id": "QP44TX4pL1wK"
   },
   "outputs": [],
   "source": [
    "master_url_root = \"https://raw.githubusercontent.com/numenta/NAB/master/data/\"\n",
    "\n",
    "df_small_noise_url_suffix = \"artificialNoAnomaly/art_daily_small_noise.csv\"\n",
    "df_small_noise_url = master_url_root + df_small_noise_url_suffix\n",
    "df_small_noise = pd.read_csv(\n",
    "    df_small_noise_url, parse_dates=True, index_col=\"timestamp\"\n",
    ")\n",
    "\n",
    "df_daily_jumpsup_url_suffix = \"artificialWithAnomaly/art_daily_jumpsup.csv\"\n",
    "df_daily_jumpsup_url = master_url_root + df_daily_jumpsup_url_suffix\n",
    "df_daily_jumpsup = pd.read_csv(\n",
    "    df_daily_jumpsup_url, parse_dates=True, index_col=\"timestamp\"\n",
    ")"
   ]
  },
  {
   "cell_type": "markdown",
   "metadata": {
    "id": "MlneFHWZL1wL"
   },
   "source": [
    "## Quick look at the data"
   ]
  },
  {
   "cell_type": "code",
   "execution_count": 58,
   "metadata": {
    "colab": {
     "base_uri": "https://localhost:8080/"
    },
    "id": "WidrmNpBL1wL",
    "outputId": "f62a2fa0-c2e8-46ab-a683-739d58df3734"
   },
   "outputs": [
    {
     "name": "stdout",
     "output_type": "stream",
     "text": [
      "                         value\n",
      "timestamp                     \n",
      "2014-04-01 00:00:00  18.324919\n",
      "2014-04-01 00:05:00  21.970327\n",
      "2014-04-01 00:10:00  18.624806\n",
      "2014-04-01 00:15:00  21.953684\n",
      "2014-04-01 00:20:00  21.909120\n",
      "                         value\n",
      "timestamp                     \n",
      "2014-04-01 00:00:00  19.761252\n",
      "2014-04-01 00:05:00  20.500833\n",
      "2014-04-01 00:10:00  19.961641\n",
      "2014-04-01 00:15:00  21.490266\n",
      "2014-04-01 00:20:00  20.187739\n"
     ]
    }
   ],
   "source": [
    "print(df_small_noise.head())\n",
    "\n",
    "print(df_daily_jumpsup.head())"
   ]
  },
  {
   "cell_type": "markdown",
   "metadata": {
    "id": "59RYKyGLL1wM"
   },
   "source": [
    "## Visualize the data\n",
    "### Timeseries data without anomalies\n",
    "\n",
    "We will use the following data for training."
   ]
  },
  {
   "cell_type": "code",
   "execution_count": 59,
   "metadata": {
    "colab": {
     "base_uri": "https://localhost:8080/",
     "height": 302
    },
    "id": "m_O8wEbnL1wM",
    "outputId": "543cf719-d738-4123-e228-3ac8ded6c1c0"
   },
   "outputs": [
    {
     "data": {
      "image/png": "[encoded data removed]",
      "text/plain": [
       "<Figure size 432x288 with 1 Axes>"
      ]
     },
     "metadata": {
      "needs_background": "light"
     },
     "output_type": "display_data"
    }
   ],
   "source": [
    "fig, ax = plt.subplots()\n",
    "df_small_noise.plot(legend=False, ax=ax)\n",
    "plt.ylabel('Value')\n",
    "plt.show()"
   ]
  },
  {
   "cell_type": "markdown",
   "metadata": {
    "id": "kIPHLxIML1wM"
   },
   "source": [
    "### Timeseries data with anomalies\n",
    "\n",
    "We will use the following data for testing and see if the sudden jump up in the\n",
    "data is detected as an anomaly."
   ]
  },
  {
   "cell_type": "code",
   "execution_count": 60,
   "metadata": {
    "colab": {
     "base_uri": "https://localhost:8080/",
     "height": 302
    },
    "id": "Aw9nTYjBL1wN",
    "outputId": "ad39c5cb-7d26-4d02-9daf-51227a010e73"
   },
   "outputs": [
    {
     "data": {
      "image/png": "[encoded data removed]",
      "text/plain": [
       "<Figure size 432x288 with 1 Axes>"
      ]
     },
     "metadata": {
      "needs_background": "light"
     },
     "output_type": "display_data"
    }
   ],
   "source": [
    "fig, ax = plt.subplots()\n",
    "df_daily_jumpsup.plot(legend=False, ax=ax)\n",
    "plt.ylabel('Value')\n",
    "plt.show()"
   ]
  },
  {
   "cell_type": "markdown",
   "metadata": {
    "id": "iSZh_DOmL1wN"
   },
   "source": [
    "## Prepare training data\n",
    "\n",
    "Get data values from the training timeseries data file and normalize the\n",
    "`value` data. We have a `value` for every 5 mins for 14 days.\n",
    "\n",
    "-   24 * 60 / 5 = **288 timesteps per day**\n",
    "-   288 * 14 = **4032 data points** in total"
   ]
  },
  {
   "cell_type": "code",
   "execution_count": 61,
   "metadata": {
    "colab": {
     "base_uri": "https://localhost:8080/"
    },
    "id": "S-EkKCNcL1wO",
    "outputId": "2a1f137a-99bf-43c9-b20a-6d3ad8db02ef"
   },
   "outputs": [
    {
     "name": "stdout",
     "output_type": "stream",
     "text": [
      "Number of training samples: 4032\n"
     ]
    }
   ],
   "source": [
    "\n",
    "# Normalize and save the mean and std we get,\n",
    "# for normalizing test data.\n",
    "training_mean = df_small_noise.mean()\n",
    "training_std = df_small_noise.std()\n",
    "df_training_value = (df_small_noise - training_mean) / training_std\n",
    "print(\"Number of training samples:\", len(df_training_value))"
   ]
  },
  {
   "cell_type": "markdown",
   "metadata": {
    "id": "NvIUKXNiL1wO"
   },
   "source": [
    "### Create sequences\n",
    "Create sequences combining `TIME_STEPS` contiguous data values from the\n",
    "training data."
   ]
  },
  {
   "cell_type": "code",
   "execution_count": 62,
   "metadata": {
    "colab": {
     "base_uri": "https://localhost:8080/"
    },
    "id": "j3PMDSVQL1wO",
    "outputId": "df480c55-cc90-4f92-f965-0ec686707c09"
   },
   "outputs": [
    {
     "name": "stdout",
     "output_type": "stream",
     "text": [
      "Training input shape:  (3745, 288, 1)\n"
     ]
    }
   ],
   "source": [
    "TIME_STEPS = 288\n",
    "\n",
    "# Generated training sequences for use in the model.\n",
    "def create_sequences(values, time_steps=TIME_STEPS):\n",
    "    output = []\n",
    "    for i in range(len(values) - time_steps + 1):\n",
    "        output.append(values[i : (i + time_steps)])\n",
    "    return np.stack(output)\n",
    "\n",
    "\n",
    "x_train = create_sequences(df_training_value.values)\n",
    "print(\"Training input shape: \", x_train.shape)"
   ]
  },
  {
   "cell_type": "markdown",
   "metadata": {
    "id": "xdP8DThPL1wP"
   },
   "source": [
    "## Build a model\n",
    "\n",
    "We will build a convolutional reconstruction autoencoder model. The model will\n",
    "take input of shape `(batch_size, sequence_length, num_features)` and return\n",
    "output of the same shape. In this case, `sequence_length` is 288 and\n",
    "`num_features` is 1."
   ]
  },
  {
   "cell_type": "code",
   "execution_count": 63,
   "metadata": {
    "colab": {
     "base_uri": "https://localhost:8080/"
    },
    "id": "mlyNVYopL1wP",
    "outputId": "e06854bb-9347-4bed-ac97-a1bcd3036937"
   },
   "outputs": [
    {
     "name": "stdout",
     "output_type": "stream",
     "text": [
      "Model: \"sequential_18\"\n",
      "_________________________________________________________________\n",
      " Layer (type)                Output Shape              Param #   \n",
      "=================================================================\n",
      " conv1d_36 (Conv1D)          (None, 144, 32)           256       \n",
      "                                                                 \n",
      " dropout_36 (Dropout)        (None, 144, 32)           0         \n",
      "                                                                 \n",
      " conv1d_37 (Conv1D)          (None, 72, 16)            3600      \n",
      "                                                                 \n",
      " conv1d_transpose_54 (Conv1D  (None, 144, 16)          1808      \n",
      " Transpose)                                                      \n",
      "                                                                 \n",
      " dropout_37 (Dropout)        (None, 144, 16)           0         \n",
      "                                                                 \n",
      " conv1d_transpose_55 (Conv1D  (None, 288, 32)          3616      \n",
      " Transpose)                                                      \n",
      "                                                                 \n",
      " conv1d_transpose_56 (Conv1D  (None, 288, 1)           225       \n",
      " Transpose)                                                      \n",
      "                                                                 \n",
      "=================================================================\n",
      "Total params: 9,505\n",
      "Trainable params: 9,505\n",
      "Non-trainable params: 0\n",
      "_________________________________________________________________\n"
     ]
    }
   ],
   "source": [
    "model = keras.Sequential(\n",
    "    [\n",
    "        layers.Input(shape=(x_train.shape[1], x_train.shape[2])),\n",
    "        layers.Conv1D(\n",
    "            filters=32, kernel_size=7, padding=\"same\", strides=2, activation=\"relu\"\n",
    "        ),\n",
    "        layers.Dropout(rate=0.2),\n",
    "        layers.Conv1D(\n",
    "            filters=16, kernel_size=7, padding=\"same\", strides=2, activation=\"relu\"\n",
    "        ),\n",
    "        layers.Conv1DTranspose(\n",
    "            filters=16, kernel_size=7, padding=\"same\", strides=2, activation=\"relu\"\n",
    "        ),\n",
    "        layers.Dropout(rate=0.2),\n",
    "        layers.Conv1DTranspose(\n",
    "            filters=32, kernel_size=7, padding=\"same\", strides=2, activation=\"relu\"\n",
    "        ),\n",
    "        layers.Conv1DTranspose(filters=1, kernel_size=7, padding=\"same\"),\n",
    "    ]\n",
    ")\n",
    "model.compile(optimizer=keras.optimizers.Adam(learning_rate=0.01), loss=\"mse\")\n",
    "model.summary()"
   ]
  },
  {
   "cell_type": "markdown",
   "metadata": {
    "id": "zgOs2ejQL1wP"
   },
   "source": [
    "## Train the model\n",
    "\n",
    "Please note that we are using `x_train` as both the input and the target\n",
    "since this is a reconstruction model."
   ]
  },
  {
   "cell_type": "code",
   "execution_count": 64,
   "metadata": {
    "colab": {
     "base_uri": "https://localhost:8080/"
    },
    "id": "CtDmtd0eL1wP",
    "outputId": "2c6dfd61-273f-4a91-c54a-b98a02498e4f"
   },
   "outputs": [
    {
     "name": "stdout",
     "output_type": "stream",
     "text": [
      "Epoch 1/50\n",
      "27/27 [==============================] - 2s 62ms/step - loss: 0.4784 - val_loss: 0.0785\n",
      "Epoch 2/50\n",
      "27/27 [==============================] - 2s 56ms/step - loss: 0.0760 - val_loss: 0.0312\n",
      "Epoch 3/50\n",
      "27/27 [==============================] - 2s 56ms/step - loss: 0.0433 - val_loss: 0.0267\n",
      "Epoch 4/50\n",
      "27/27 [==============================] - 2s 56ms/step - loss: 0.0347 - val_loss: 0.0229\n",
      "Epoch 5/50\n",
      "27/27 [==============================] - 1s 55ms/step - loss: 0.0292 - val_loss: 0.0209\n",
      "Epoch 6/50\n",
      "27/27 [==============================] - 2s 56ms/step - loss: 0.0256 - val_loss: 0.0192\n",
      "Epoch 7/50\n",
      "27/27 [==============================] - 2s 57ms/step - loss: 0.0234 - val_loss: 0.0191\n",
      "Epoch 8/50\n",
      "27/27 [==============================] - 2s 57ms/step - loss: 0.0215 - val_loss: 0.0193\n",
      "Epoch 9/50\n",
      "27/27 [==============================] - 2s 56ms/step - loss: 0.0202 - val_loss: 0.0177\n",
      "Epoch 10/50\n",
      "27/27 [==============================] - 2s 57ms/step - loss: 0.0193 - val_loss: 0.0181\n",
      "Epoch 11/50\n",
      "27/27 [==============================] - 2s 57ms/step - loss: 0.0186 - val_loss: 0.0178\n",
      "Epoch 12/50\n",
      "27/27 [==============================] - 2s 87ms/step - loss: 0.0180 - val_loss: 0.0169\n",
      "Epoch 13/50\n",
      "27/27 [==============================] - 2s 71ms/step - loss: 0.0173 - val_loss: 0.0160\n",
      "Epoch 14/50\n",
      "27/27 [==============================] - 2s 56ms/step - loss: 0.0166 - val_loss: 0.0154\n",
      "Epoch 15/50\n",
      "27/27 [==============================] - 2s 56ms/step - loss: 0.0160 - val_loss: 0.0146\n",
      "Epoch 16/50\n",
      "27/27 [==============================] - 2s 56ms/step - loss: 0.0154 - val_loss: 0.0143\n",
      "Epoch 17/50\n",
      "27/27 [==============================] - 1s 55ms/step - loss: 0.0149 - val_loss: 0.0133\n",
      "Epoch 18/50\n",
      "27/27 [==============================] - 1s 55ms/step - loss: 0.0143 - val_loss: 0.0137\n",
      "Epoch 19/50\n",
      "27/27 [==============================] - 2s 56ms/step - loss: 0.0138 - val_loss: 0.0129\n",
      "Epoch 20/50\n",
      "27/27 [==============================] - 2s 56ms/step - loss: 0.0134 - val_loss: 0.0127\n",
      "Epoch 21/50\n",
      "27/27 [==============================] - 2s 56ms/step - loss: 0.0129 - val_loss: 0.0124\n",
      "Epoch 22/50\n",
      "27/27 [==============================] - 1s 55ms/step - loss: 0.0127 - val_loss: 0.0124\n",
      "Epoch 23/50\n",
      "27/27 [==============================] - 1s 55ms/step - loss: 0.0122 - val_loss: 0.0127\n",
      "Epoch 24/50\n",
      "27/27 [==============================] - 1s 54ms/step - loss: 0.0118 - val_loss: 0.0115\n",
      "Epoch 25/50\n",
      "27/27 [==============================] - 1s 55ms/step - loss: 0.0116 - val_loss: 0.0115\n",
      "Epoch 26/50\n",
      "27/27 [==============================] - 1s 55ms/step - loss: 0.0115 - val_loss: 0.0112\n",
      "Epoch 27/50\n",
      "27/27 [==============================] - 1s 55ms/step - loss: 0.0111 - val_loss: 0.0104\n",
      "Epoch 28/50\n",
      "27/27 [==============================] - 2s 56ms/step - loss: 0.0108 - val_loss: 0.0112\n",
      "Epoch 29/50\n",
      "27/27 [==============================] - 1s 55ms/step - loss: 0.0106 - val_loss: 0.0104\n",
      "Epoch 30/50\n",
      "27/27 [==============================] - 1s 56ms/step - loss: 0.0105 - val_loss: 0.0108\n",
      "Epoch 31/50\n",
      "27/27 [==============================] - 2s 56ms/step - loss: 0.0103 - val_loss: 0.0100\n",
      "Epoch 32/50\n",
      "27/27 [==============================] - 2s 56ms/step - loss: 0.0104 - val_loss: 0.0100\n",
      "Epoch 33/50\n",
      "27/27 [==============================] - 1s 55ms/step - loss: 0.0101 - val_loss: 0.0099\n",
      "Epoch 34/50\n",
      "27/27 [==============================] - 1s 55ms/step - loss: 0.0100 - val_loss: 0.0103\n",
      "Epoch 35/50\n",
      "27/27 [==============================] - 2s 56ms/step - loss: 0.0100 - val_loss: 0.0092\n",
      "Epoch 36/50\n",
      "27/27 [==============================] - 1s 55ms/step - loss: 0.0097 - val_loss: 0.0094\n",
      "Epoch 37/50\n",
      "27/27 [==============================] - 1s 54ms/step - loss: 0.0097 - val_loss: 0.0098\n",
      "Epoch 38/50\n",
      "27/27 [==============================] - 1s 55ms/step - loss: 0.0095 - val_loss: 0.0095\n",
      "Epoch 39/50\n",
      "27/27 [==============================] - 1s 55ms/step - loss: 0.0095 - val_loss: 0.0102\n",
      "Epoch 40/50\n",
      "27/27 [==============================] - 1s 55ms/step - loss: 0.0093 - val_loss: 0.0098\n"
     ]
    }
   ],
   "source": [
    "history = model.fit(\n",
    "    x_train,\n",
    "    x_train,\n",
    "    epochs=50,\n",
    "    batch_size=128,\n",
    "    validation_split=0.1,\n",
    "    callbacks=[\n",
    "        keras.callbacks.EarlyStopping(monitor=\"val_loss\", patience=5, mode=\"min\")\n",
    "    ],\n",
    ")"
   ]
  },
  {
   "cell_type": "markdown",
   "metadata": {
    "id": "py65uiVYL1wQ"
   },
   "source": [
    "Let's plot training and validation loss to see how the training went."
   ]
  },
  {
   "cell_type": "code",
   "execution_count": 65,
   "metadata": {
    "colab": {
     "base_uri": "https://localhost:8080/",
     "height": 278
    },
    "id": "EIiqyXB9L1wQ",
    "outputId": "bb5e7b1a-177b-4257-8d19-99def0511669"
   },
   "outputs": [
    {
     "data": {
      "image/png": "[encoded data removed]",
      "text/plain": [
       "<Figure size 432x288 with 1 Axes>"
      ]
     },
     "metadata": {
      "needs_background": "light"
     },
     "output_type": "display_data"
    }
   ],
   "source": [
    "plt.semilogy(history.history[\"loss\"], label=\"Training Loss\")\n",
    "plt.semilogy(history.history[\"val_loss\"], label=\"Validation Loss\")\n",
    "plt.ylabel('Loss value')\n",
    "plt.xlabel('epoch')\n",
    "plt.legend()\n",
    "plt.show()"
   ]
  },
  {
   "cell_type": "markdown",
   "metadata": {
    "id": "osRQKC8LL1wR"
   },
   "source": [
    "## Detecting anomalies\n",
    "\n",
    "We will detect anomalies by determining how well our model can reconstruct\n",
    "the input data.\n",
    "\n",
    "\n",
    "1.   Find MAE loss on training samples.\n",
    "2.   Find max MAE loss value. This is the worst our model has performed trying\n",
    "to reconstruct a sample. We will make this the `threshold` for anomaly\n",
    "detection.\n",
    "3.   If the reconstruction loss for a sample is greater than this `threshold`\n",
    "value then we can infer that the model is seeing a pattern that it isn't\n",
    "familiar with. We will label this sample as an `anomaly`.\n"
   ]
  },
  {
   "cell_type": "code",
   "execution_count": 66,
   "metadata": {
    "colab": {
     "base_uri": "https://localhost:8080/",
     "height": 300
    },
    "id": "s2gsNKxmL1wR",
    "outputId": "e5bcd653-4253-472b-8c5b-69d7aa42ae69"
   },
   "outputs": [
    {
     "data": {
      "image/png": "[encoded data removed]",
      "text/plain": [
       "<Figure size 432x288 with 1 Axes>"
      ]
     },
     "metadata": {
      "needs_background": "light"
     },
     "output_type": "display_data"
    },
    {
     "name": "stdout",
     "output_type": "stream",
     "text": [
      "Reconstruction error threshold:  0.08059539121478711\n"
     ]
    }
   ],
   "source": [
    "# Get train MAE loss.\n",
    "x_train_pred = model.predict(x_train)\n",
    "train_mae_loss = np.mean(np.abs(x_train_pred - x_train), axis=1)\n",
    "\n",
    "plt.hist(train_mae_loss, bins=50)\n",
    "plt.xlabel(\"Train MAE loss\")\n",
    "plt.ylabel(\"No of samples\")\n",
    "plt.show()\n",
    "\n",
    "# Get reconstruction loss threshold.\n",
    "threshold = np.max(train_mae_loss)\n",
    "print(\"Reconstruction error threshold: \", threshold)"
   ]
  },
  {
   "cell_type": "markdown",
   "metadata": {
    "id": "0gEVTeB0L1wR"
   },
   "source": [
    "### Compare recontruction\n",
    "\n",
    "Just for fun, let's see how our model has recontructed the first sample.\n",
    "This is the 288 timesteps from day 1 of our training dataset."
   ]
  },
  {
   "cell_type": "code",
   "execution_count": 67,
   "metadata": {
    "colab": {
     "base_uri": "https://localhost:8080/",
     "height": 264
    },
    "id": "SgnlzhQRL1wS",
    "outputId": "bd48d1b7-7bbf-43d2-f750-e9b894515e57"
   },
   "outputs": [
    {
     "data": {
      "image/png": "[encoded data removed]",
      "text/plain": [
       "<Figure size 432x288 with 1 Axes>"
      ]
     },
     "metadata": {
      "needs_background": "light"
     },
     "output_type": "display_data"
    }
   ],
   "source": [
    "# Checking how the first sequence is learnt\n",
    "plt.plot(x_train[0])\n",
    "plt.plot(x_train_pred[0])\n",
    "plt.show()"
   ]
  },
  {
   "cell_type": "markdown",
   "metadata": {
    "id": "rW--QZRdL1wS"
   },
   "source": [
    "### Prepare test data"
   ]
  },
  {
   "cell_type": "code",
   "execution_count": 68,
   "metadata": {
    "colab": {
     "base_uri": "https://localhost:8080/",
     "height": 1000
    },
    "id": "Kl7b9VqzL1wS",
    "outputId": "7fa5ee7e-3849-4655-8bbd-7e688880256f"
   },
   "outputs": [
    {
     "data": {
      "image/png": "[encoded data removed]",
      "text/plain": [
       "<Figure size 432x288 with 1 Axes>"
      ]
     },
     "metadata": {
      "needs_background": "light"
     },
     "output_type": "display_data"
    },
    {
     "name": "stdout",
     "output_type": "stream",
     "text": [
      "Test input shape:  (3745, 288, 1)\n"
     ]
    },
    {
     "data": {
      "image/png": "[encoded data removed]",
      "text/plain": [
       "<Figure size 432x288 with 1 Axes>"
      ]
     },
     "metadata": {
      "needs_background": "light"
     },
     "output_type": "display_data"
    },
    {
     "name": "stdout",
     "output_type": "stream",
     "text": [
      "Number of anomaly samples:  404\n",
      "Indices of anomaly samples:  (array([ 795, 1654, 1658, 1659, 2522, 2524, 2701, 2702, 2703, 2704, 2705,\n",
      "       2706, 2707, 2708, 2709, 2710, 2711, 2712, 2713, 2714, 2715, 2716,\n",
      "       2717, 2718, 2719, 2720, 2721, 2722, 2723, 2724, 2725, 2726, 2727,\n",
      "       2728, 2729, 2730, 2731, 2732, 2733, 2734, 2735, 2736, 2737, 2738,\n",
      "       2739, 2740, 2741, 2742, 2743, 2744, 2745, 2746, 2747, 2748, 2749,\n",
      "       2750, 2751, 2752, 2753, 2754, 2755, 2756, 2757, 2758, 2759, 2760,\n",
      "       2761, 2762, 2763, 2764, 2765, 2766, 2767, 2768, 2769, 2770, 2771,\n",
      "       2772, 2773, 2774, 2775, 2776, 2777, 2778, 2779, 2780, 2781, 2782,\n",
      "       2783, 2784, 2785, 2786, 2787, 2788, 2789, 2790, 2791, 2792, 2793,\n",
      "       2794, 2795, 2796, 2797, 2798, 2799, 2800, 2801, 2802, 2803, 2804,\n",
      "       2805, 2806, 2807, 2808, 2809, 2810, 2811, 2812, 2813, 2814, 2815,\n",
      "       2816, 2817, 2818, 2819, 2820, 2821, 2822, 2823, 2824, 2825, 2826,\n",
      "       2827, 2828, 2829, 2830, 2831, 2832, 2833, 2834, 2835, 2836, 2837,\n",
      "       2838, 2839, 2840, 2841, 2842, 2843, 2844, 2845, 2846, 2847, 2848,\n",
      "       2849, 2850, 2851, 2852, 2853, 2854, 2855, 2856, 2857, 2858, 2859,\n",
      "       2860, 2861, 2862, 2863, 2864, 2865, 2866, 2867, 2868, 2869, 2870,\n",
      "       2871, 2872, 2873, 2874, 2875, 2876, 2877, 2878, 2879, 2880, 2881,\n",
      "       2882, 2883, 2884, 2885, 2886, 2887, 2888, 2889, 2890, 2891, 2892,\n",
      "       2893, 2894, 2895, 2896, 2897, 2898, 2899, 2900, 2901, 2902, 2903,\n",
      "       2904, 2905, 2906, 2907, 2908, 2909, 2910, 2911, 2912, 2913, 2914,\n",
      "       2915, 2916, 2917, 2918, 2919, 2920, 2921, 2922, 2923, 2924, 2925,\n",
      "       2926, 2927, 2928, 2929, 2930, 2931, 2932, 2933, 2934, 2935, 2936,\n",
      "       2937, 2938, 2939, 2940, 2941, 2942, 2943, 2944, 2945, 2946, 2947,\n",
      "       2948, 2949, 2950, 2951, 2952, 2953, 2954, 2955, 2956, 2957, 2958,\n",
      "       2959, 2960, 2961, 2962, 2963, 2964, 2965, 2966, 2967, 2968, 2969,\n",
      "       2970, 2971, 2972, 2973, 2974, 2975, 2976, 2977, 2978, 2979, 2980,\n",
      "       2981, 2982, 2983, 2984, 2985, 2986, 2987, 2988, 2989, 2990, 2991,\n",
      "       2992, 2993, 2994, 2995, 2996, 2997, 2998, 2999, 3000, 3001, 3002,\n",
      "       3003, 3004, 3005, 3006, 3007, 3008, 3009, 3010, 3011, 3012, 3013,\n",
      "       3014, 3015, 3016, 3017, 3018, 3019, 3020, 3021, 3022, 3023, 3024,\n",
      "       3025, 3026, 3027, 3028, 3029, 3030, 3031, 3032, 3033, 3034, 3035,\n",
      "       3036, 3037, 3038, 3039, 3040, 3041, 3042, 3043, 3044, 3045, 3046,\n",
      "       3047, 3048, 3049, 3050, 3051, 3052, 3053, 3054, 3055, 3056, 3057,\n",
      "       3058, 3059, 3060, 3061, 3062, 3063, 3064, 3065, 3066, 3067, 3068,\n",
      "       3069, 3070, 3071, 3072, 3073, 3074, 3075, 3076, 3077, 3078, 3079,\n",
      "       3080, 3081, 3082, 3083, 3084, 3085, 3086, 3087, 3088, 3089, 3090,\n",
      "       3091, 3092, 3093, 3094, 3095, 3097, 3099, 3101]),)\n"
     ]
    }
   ],
   "source": [
    "\n",
    "df_test_value = (df_daily_jumpsup - training_mean) / training_std\n",
    "fig, ax = plt.subplots()\n",
    "df_test_value.plot(legend=False, ax=ax)\n",
    "plt.show()\n",
    "\n",
    "# Create sequences from test values.\n",
    "x_test = create_sequences(df_test_value.values)\n",
    "print(\"Test input shape: \", x_test.shape)\n",
    "\n",
    "# Get test MAE loss.\n",
    "x_test_pred = model.predict(x_test)\n",
    "test_mae_loss = np.mean(np.abs(x_test_pred - x_test), axis=1)\n",
    "test_mae_loss = test_mae_loss.reshape((-1))\n",
    "\n",
    "plt.hist(test_mae_loss, bins=50)\n",
    "plt.xlabel(\"test MAE loss\")\n",
    "plt.ylabel(\"No of samples\")\n",
    "plt.show()\n",
    "\n",
    "# Detect all the samples which are anomalies.\n",
    "anomalies = test_mae_loss > threshold\n",
    "print(\"Number of anomaly samples: \", np.sum(anomalies))\n",
    "print(\"Indices of anomaly samples: \", np.where(anomalies))"
   ]
  },
  {
   "cell_type": "markdown",
   "metadata": {
    "id": "obVkeAAaL1wS"
   },
   "source": [
    "## Plot anomalies\n",
    "\n",
    "We now know the samples of the data which are anomalies. With this, we will\n",
    "find the corresponding `timestamps` from the original test data. We will be\n",
    "using the following method to do that:\n",
    "\n",
    "Let's say time_steps = 3 and we have 10 training values. Our `x_train` will\n",
    "look like this:\n",
    "\n",
    "- 0, 1, 2\n",
    "- 1, 2, 3\n",
    "- 2, 3, 4\n",
    "- 3, 4, 5\n",
    "- 4, 5, 6\n",
    "- 5, 6, 7\n",
    "- 6, 7, 8\n",
    "- 7, 8, 9\n",
    "\n",
    "All except the initial and the final time_steps-1 data values, will appear in\n",
    "`time_steps` number of samples. So, if we know that the samples\n",
    "[(3, 4, 5), (4, 5, 6), (5, 6, 7)] are anomalies, we can say that the data point\n",
    "5 is an anomaly."
   ]
  },
  {
   "cell_type": "code",
   "execution_count": 69,
   "metadata": {
    "id": "5f_mxWgNL1wT"
   },
   "outputs": [],
   "source": [
    "# data i is an anomaly if samples [(i - timesteps + 1) to (i)] are anomalies\n",
    "anomalous_data_indices = []\n",
    "for data_idx in range(TIME_STEPS - 1, len(df_test_value) - TIME_STEPS + 1):\n",
    "    if np.all(anomalies[data_idx - TIME_STEPS + 1 : data_idx]):\n",
    "        anomalous_data_indices.append(data_idx)"
   ]
  },
  {
   "cell_type": "markdown",
   "metadata": {
    "id": "m7f7YtsdL1wT"
   },
   "source": [
    "Let's overlay the anomalies on the original test data plot."
   ]
  },
  {
   "cell_type": "code",
   "execution_count": 70,
   "metadata": {
    "colab": {
     "base_uri": "https://localhost:8080/",
     "height": 302
    },
    "id": "_Sa0lJjqL1wT",
    "outputId": "7aa4f6a5-b44b-486b-dc6a-fbc8a2a12106"
   },
   "outputs": [
    {
     "data": {
      "image/png": "[encoded data removed]",
      "text/plain": [
       "<Figure size 432x288 with 1 Axes>"
      ]
     },
     "metadata": {
      "needs_background": "light"
     },
     "output_type": "display_data"
    }
   ],
   "source": [
    "df_subset = df_daily_jumpsup.iloc[anomalous_data_indices]\n",
    "fig, ax = plt.subplots()\n",
    "df_daily_jumpsup.plot(legend=False, ax=ax)\n",
    "df_subset.plot(legend=False, ax=ax, color=\"r\")\n",
    "plt.show()"
   ]
  },
  {
   "cell_type": "markdown",
   "metadata": {
    "id": "FUJnwx-USvrQ"
   },
   "source": [
    "## Exercises:\n",
    "In this problem you are to compare different ideas of stochastic optimization. Ensure, that the algorithms are compared in the same setting: same initialization (fix the [seed](https://keras.io/api/layers/initializers/)!) and same amount of epochs. "
   ]
  },
  {
   "cell_type": "markdown",
   "metadata": {
    "id": "tY_AuH8vQCs5"
   },
   "source": [
    "### Learning rate schedule\n",
    "* Train model using SGD optimizer with default hyperparameters. \n",
    "* Train model using SGD optimizer with learning rate decay. Instructions can be found via [this](https://keras.io/api/optimizers/learning_rate_schedules/) link. \n",
    "* Compare the results.\n",
    "\n",
    "  Optional: Log results with wandb"
   ]
  },
  {
   "cell_type": "markdown",
   "metadata": {
    "id": "8lRP6yFF7UZm"
   },
   "source": [
    "<font color=\"lime\"> ==YOUR ANSWER== </font>"
   ]
  },
  {
   "cell_type": "code",
   "execution_count": null,
   "metadata": {
    "colab": {
     "base_uri": "https://localhost:8080/",
     "height": 1000
    },
    "id": "T35fwijCM9r0",
    "outputId": "1360ef73-d322-4cd7-ec5b-cae8595e12ff"
   },
   "outputs": [
    {
     "name": "stdout",
     "output_type": "stream",
     "text": [
      "Epoch 1/50\n",
      "27/27 [==============================] - 2s 62ms/step - loss: 0.9222 - val_loss: 0.6869\n",
      "Epoch 2/50\n",
      "27/27 [==============================] - 1s 55ms/step - loss: 0.4206 - val_loss: 0.2101\n",
      "Epoch 3/50\n",
      "27/27 [==============================] - 2s 57ms/step - loss: 0.1792 - val_loss: 0.1016\n",
      "Epoch 4/50\n",
      "27/27 [==============================] - 1s 54ms/step - loss: 0.1148 - val_loss: 0.0684\n",
      "Epoch 5/50\n",
      "27/27 [==============================] - 1s 55ms/step - loss: 0.0974 - val_loss: 0.0601\n",
      "Epoch 6/50\n",
      "27/27 [==============================] - 2s 56ms/step - loss: 0.0909 - val_loss: 0.0569\n",
      "Epoch 7/50\n",
      "27/27 [==============================] - 2s 56ms/step - loss: 0.0864 - val_loss: 0.0547\n",
      "Epoch 8/50\n",
      "27/27 [==============================] - 2s 58ms/step - loss: 0.0831 - val_loss: 0.0533\n",
      "Epoch 9/50\n",
      "27/27 [==============================] - 2s 69ms/step - loss: 0.0803 - val_loss: 0.0517\n",
      "Epoch 10/50\n",
      "27/27 [==============================] - 3s 112ms/step - loss: 0.0784 - val_loss: 0.0511\n",
      "Epoch 11/50\n",
      "27/27 [==============================] - 3s 111ms/step - loss: 0.0763 - val_loss: 0.0500\n",
      "Epoch 12/50\n",
      "27/27 [==============================] - 2s 84ms/step - loss: 0.0745 - val_loss: 0.0504\n",
      "Epoch 13/50\n",
      "27/27 [==============================] - 2s 91ms/step - loss: 0.0731 - val_loss: 0.0491\n",
      "Epoch 14/50\n",
      "27/27 [==============================] - 2s 59ms/step - loss: 0.0716 - val_loss: 0.0495\n",
      "Epoch 15/50\n",
      "27/27 [==============================] - 2s 77ms/step - loss: 0.0705 - val_loss: 0.0489\n",
      "Epoch 16/50\n",
      "27/27 [==============================] - 2s 69ms/step - loss: 0.0695 - val_loss: 0.0480\n",
      "Epoch 17/50\n",
      "27/27 [==============================] - 2s 58ms/step - loss: 0.0683 - val_loss: 0.0473\n",
      "Epoch 18/50\n",
      "27/27 [==============================] - 2s 57ms/step - loss: 0.0671 - val_loss: 0.0479\n",
      "Epoch 19/50\n",
      "27/27 [==============================] - 2s 58ms/step - loss: 0.0660 - val_loss: 0.0473\n",
      "Epoch 20/50\n",
      "27/27 [==============================] - 2s 57ms/step - loss: 0.0654 - val_loss: 0.0474\n",
      "Epoch 21/50\n",
      "27/27 [==============================] - 2s 58ms/step - loss: 0.0644 - val_loss: 0.0465\n",
      "Epoch 22/50\n",
      "27/27 [==============================] - 2s 58ms/step - loss: 0.0638 - val_loss: 0.0468\n",
      "Epoch 23/50\n",
      "27/27 [==============================] - 2s 58ms/step - loss: 0.0630 - val_loss: 0.0469\n",
      "Epoch 24/50\n",
      "27/27 [==============================] - 2s 57ms/step - loss: 0.0624 - val_loss: 0.0465\n",
      "Epoch 25/50\n",
      "27/27 [==============================] - 2s 58ms/step - loss: 0.0616 - val_loss: 0.0465\n",
      "Epoch 26/50\n",
      "27/27 [==============================] - 2s 59ms/step - loss: 0.0610 - val_loss: 0.0460\n",
      "Epoch 27/50\n",
      "27/27 [==============================] - 2s 57ms/step - loss: 0.0603 - val_loss: 0.0465\n",
      "Epoch 28/50\n",
      "27/27 [==============================] - 2s 58ms/step - loss: 0.0597 - val_loss: 0.0460\n",
      "Epoch 29/50\n",
      "27/27 [==============================] - 2s 59ms/step - loss: 0.0590 - val_loss: 0.0446\n",
      "Epoch 30/50\n",
      "27/27 [==============================] - 2s 57ms/step - loss: 0.0585 - val_loss: 0.0452\n",
      "Epoch 31/50\n",
      "27/27 [==============================] - 2s 58ms/step - loss: 0.0579 - val_loss: 0.0455\n",
      "Epoch 32/50\n",
      "27/27 [==============================] - 2s 57ms/step - loss: 0.0573 - val_loss: 0.0452\n",
      "Epoch 33/50\n",
      "27/27 [==============================] - 2s 58ms/step - loss: 0.0570 - val_loss: 0.0448\n",
      "Epoch 34/50\n",
      "27/27 [==============================] - 2s 58ms/step - loss: 0.0563 - val_loss: 0.0451\n"
     ]
    },
    {
     "data": {
      "image/png": "[encoded data removed]",
      "text/plain": [
       "<Figure size 432x288 with 1 Axes>"
      ]
     },
     "metadata": {
      "needs_background": "light"
     },
     "output_type": "display_data"
    }
   ],
   "source": [
    "# Создадим новую модель \n",
    "# SGD optimizer with default hyperparameters\n",
    "model_SGD_def = keras.Sequential(\n",
    "    [\n",
    "        layers.Input(shape=(x_train.shape[1], x_train.shape[2])),\n",
    "        layers.Conv1D(\n",
    "            filters=32, kernel_size=7, padding=\"same\", strides=2, activation=\"relu\"\n",
    "        ),\n",
    "        layers.Dropout(rate=0.2),\n",
    "        layers.Conv1D(\n",
    "            filters=16, kernel_size=7, padding=\"same\", strides=2, activation=\"relu\"\n",
    "        ),\n",
    "        layers.Conv1DTranspose(\n",
    "            filters=16, kernel_size=7, padding=\"same\", strides=2, activation=\"relu\"\n",
    "        ),\n",
    "        layers.Dropout(rate=0.2),\n",
    "        layers.Conv1DTranspose(\n",
    "            filters=32, kernel_size=7, padding=\"same\", strides=2, activation=\"relu\"\n",
    "        ),\n",
    "        layers.Conv1DTranspose(filters=1, kernel_size=7, padding=\"same\"),\n",
    "    ]\n",
    ")\n",
    "model_SGD_def.compile(optimizer=keras.optimizers.SGD(learning_rate=0.01), loss=\"mse\")\n",
    "\n",
    "# Обучим её\n",
    "history_SGD_def = model_SGD_def.fit(\n",
    "    x_train,\n",
    "    x_train,\n",
    "    epochs=50,\n",
    "    batch_size=128,\n",
    "    validation_split=0.1,\n",
    "    callbacks=[\n",
    "        keras.callbacks.EarlyStopping(monitor=\"val_loss\", patience=5, mode=\"min\")\n",
    "    ],\n",
    ")\n",
    "\n",
    "# Посмотрим на графики процесса обучения\n",
    "plt.semilogy(history_SGD_def.history[\"loss\"], label=\"Training Loss\")\n",
    "plt.semilogy(history_SGD_def.history[\"val_loss\"], label=\"Validation Loss\")\n",
    "plt.ylabel('Loss value')\n",
    "plt.xlabel('epoch')\n",
    "plt.legend()\n",
    "plt.show()"
   ]
  },
  {
   "cell_type": "code",
   "execution_count": 55,
   "metadata": {
    "colab": {
     "base_uri": "https://localhost:8080/",
     "height": 1000
    },
    "id": "ylzQjkTFWMT-",
    "outputId": "e3921a7e-955a-466a-a6d8-bb9ce0f9efe4"
   },
   "outputs": [
    {
     "name": "stdout",
     "output_type": "stream",
     "text": [
      "Epoch 1/50\n",
      "27/27 [==============================] - 2s 64ms/step - loss: 0.6154 - val_loss: 0.1801\n",
      "Epoch 2/50\n",
      "27/27 [==============================] - 2s 56ms/step - loss: 0.1804 - val_loss: 0.0655\n",
      "Epoch 3/50\n",
      "27/27 [==============================] - 1s 55ms/step - loss: 0.0816 - val_loss: 0.0575\n",
      "Epoch 4/50\n",
      "27/27 [==============================] - 1s 56ms/step - loss: 0.0566 - val_loss: 0.0379\n",
      "Epoch 5/50\n",
      "27/27 [==============================] - 2s 56ms/step - loss: 0.0500 - val_loss: 0.0388\n",
      "Epoch 6/50\n",
      "27/27 [==============================] - 1s 55ms/step - loss: 0.0471 - val_loss: 0.0360\n",
      "Epoch 7/50\n",
      "27/27 [==============================] - 1s 54ms/step - loss: 0.0447 - val_loss: 0.0345\n",
      "Epoch 8/50\n",
      "27/27 [==============================] - 2s 56ms/step - loss: 0.0429 - val_loss: 0.0345\n",
      "Epoch 9/50\n",
      "27/27 [==============================] - 1s 55ms/step - loss: 0.0414 - val_loss: 0.0330\n",
      "Epoch 10/50\n",
      "27/27 [==============================] - 2s 56ms/step - loss: 0.0400 - val_loss: 0.0327\n",
      "Epoch 11/50\n",
      "27/27 [==============================] - 2s 56ms/step - loss: 0.0388 - val_loss: 0.0318\n",
      "Epoch 12/50\n",
      "27/27 [==============================] - 1s 54ms/step - loss: 0.0378 - val_loss: 0.0314\n",
      "Epoch 13/50\n",
      "27/27 [==============================] - 1s 55ms/step - loss: 0.0368 - val_loss: 0.0302\n",
      "Epoch 14/50\n",
      "27/27 [==============================] - 2s 56ms/step - loss: 0.0359 - val_loss: 0.0303\n",
      "Epoch 15/50\n",
      "27/27 [==============================] - 2s 56ms/step - loss: 0.0353 - val_loss: 0.0295\n",
      "Epoch 16/50\n",
      "27/27 [==============================] - 1s 55ms/step - loss: 0.0344 - val_loss: 0.0292\n",
      "Epoch 17/50\n",
      "27/27 [==============================] - 2s 56ms/step - loss: 0.0337 - val_loss: 0.0289\n",
      "Epoch 18/50\n",
      "27/27 [==============================] - 2s 56ms/step - loss: 0.0330 - val_loss: 0.0280\n",
      "Epoch 19/50\n",
      "27/27 [==============================] - 2s 57ms/step - loss: 0.0323 - val_loss: 0.0282\n",
      "Epoch 20/50\n",
      "27/27 [==============================] - 2s 56ms/step - loss: 0.0318 - val_loss: 0.0270\n",
      "Epoch 21/50\n",
      "27/27 [==============================] - 1s 55ms/step - loss: 0.0312 - val_loss: 0.0267\n",
      "Epoch 22/50\n",
      "27/27 [==============================] - 2s 57ms/step - loss: 0.0307 - val_loss: 0.0258\n",
      "Epoch 23/50\n",
      "27/27 [==============================] - 1s 54ms/step - loss: 0.0302 - val_loss: 0.0259\n",
      "Epoch 24/50\n",
      "27/27 [==============================] - 1s 55ms/step - loss: 0.0298 - val_loss: 0.0255\n",
      "Epoch 25/50\n",
      "27/27 [==============================] - 2s 56ms/step - loss: 0.0293 - val_loss: 0.0251\n",
      "Epoch 26/50\n",
      "27/27 [==============================] - 1s 55ms/step - loss: 0.0289 - val_loss: 0.0248\n",
      "Epoch 27/50\n",
      "27/27 [==============================] - 1s 55ms/step - loss: 0.0285 - val_loss: 0.0251\n",
      "Epoch 28/50\n",
      "27/27 [==============================] - 1s 54ms/step - loss: 0.0282 - val_loss: 0.0240\n",
      "Epoch 29/50\n",
      "27/27 [==============================] - 2s 56ms/step - loss: 0.0278 - val_loss: 0.0240\n",
      "Epoch 30/50\n",
      "27/27 [==============================] - 2s 57ms/step - loss: 0.0276 - val_loss: 0.0247\n",
      "Epoch 31/50\n",
      "27/27 [==============================] - 2s 56ms/step - loss: 0.0273 - val_loss: 0.0240\n",
      "Epoch 32/50\n",
      "27/27 [==============================] - 2s 56ms/step - loss: 0.0270 - val_loss: 0.0237\n",
      "Epoch 33/50\n",
      "27/27 [==============================] - 2s 57ms/step - loss: 0.0267 - val_loss: 0.0243\n",
      "Epoch 34/50\n",
      "27/27 [==============================] - 2s 57ms/step - loss: 0.0269 - val_loss: 0.0228\n",
      "Epoch 35/50\n",
      "27/27 [==============================] - 2s 57ms/step - loss: 0.0268 - val_loss: 0.0259\n",
      "Epoch 36/50\n",
      "27/27 [==============================] - 2s 56ms/step - loss: 0.0269 - val_loss: 0.0229\n",
      "Epoch 37/50\n",
      "27/27 [==============================] - 2s 56ms/step - loss: 0.0259 - val_loss: 0.0232\n",
      "Epoch 38/50\n",
      "27/27 [==============================] - 2s 56ms/step - loss: 0.0255 - val_loss: 0.0238\n",
      "Epoch 39/50\n",
      "27/27 [==============================] - 2s 56ms/step - loss: 0.0255 - val_loss: 0.0230\n"
     ]
    },
    {
     "data": {
      "image/png": "[encoded data removed]",
      "text/plain": [
       "<Figure size 432x288 with 1 Axes>"
      ]
     },
     "metadata": {
      "needs_background": "light"
     },
     "output_type": "display_data"
    }
   ],
   "source": [
    "# Создадим новую модель \n",
    "# SGD optimizer with learning rate decay (Polinomial)\n",
    "model_SGD_decay = keras.Sequential(\n",
    "    [\n",
    "        layers.Input(shape=(x_train.shape[1], x_train.shape[2])),\n",
    "        layers.Conv1D(\n",
    "            filters=32, kernel_size=7, padding=\"same\", strides=2, activation=\"relu\"\n",
    "        ),\n",
    "        layers.Dropout(rate=0.2),\n",
    "        layers.Conv1D(\n",
    "            filters=16, kernel_size=7, padding=\"same\", strides=2, activation=\"relu\"\n",
    "        ),\n",
    "        layers.Conv1DTranspose(\n",
    "            filters=16, kernel_size=7, padding=\"same\", strides=2, activation=\"relu\"\n",
    "        ),\n",
    "        layers.Dropout(rate=0.2),\n",
    "        layers.Conv1DTranspose(\n",
    "            filters=32, kernel_size=7, padding=\"same\", strides=2, activation=\"relu\"\n",
    "        ),\n",
    "        layers.Conv1DTranspose(filters=1, kernel_size=7, padding=\"same\"),\n",
    "    ]\n",
    ")\n",
    "\n",
    "# Зададим Polynomial Decay\n",
    "starter_learning_rate = 0.1\n",
    "end_learning_rate = 0.01\n",
    "decay_steps = 10000\n",
    "learning_rate_fn = tf.keras.optimizers.schedules.PolynomialDecay(\n",
    "    starter_learning_rate,\n",
    "    decay_steps,\n",
    "    end_learning_rate)\n",
    "model_SGD_decay.compile(optimizer=keras.optimizers.SGD(learning_rate=learning_rate_fn), loss=\"mse\")\n",
    "\n",
    "\n",
    "# Обучим\n",
    "history_SGD_decay = model_SGD_decay.fit(\n",
    "    x_train,\n",
    "    x_train,\n",
    "    epochs=50,\n",
    "    batch_size=128,\n",
    "    validation_split=0.1,\n",
    "    callbacks=[\n",
    "        keras.callbacks.EarlyStopping(monitor=\"val_loss\", patience=5, mode=\"min\")\n",
    "    ],\n",
    ")\n",
    "\n",
    "# Посмотрим на графики процесса обучения\n",
    "plt.semilogy(history_SGD_decay.history[\"loss\"], label=\"Training Loss\")\n",
    "plt.semilogy(history_SGD_decay.history[\"val_loss\"], label=\"Validation Loss\")\n",
    "plt.ylabel('Loss value')\n",
    "plt.xlabel('epoch')\n",
    "plt.legend()\n",
    "plt.show()"
   ]
  },
  {
   "cell_type": "markdown",
   "metadata": {
    "id": "ZyxuGBv8gelx"
   },
   "source": [
    "Видим, что для оптимизатора SGD с уменьшением скорости обучения требуется чуть больше итераций и для validation Loss график менее гладкий, в отличие от обычного SGD."
   ]
  },
  {
   "cell_type": "markdown",
   "metadata": {
    "id": "OOLG-wkwS0Zq"
   },
   "source": [
    "### Acceleration\n",
    "* Train model using SGD optimizer with default hyperparameters. \n",
    "* Train model using SGD optimizer with momentum term. \n",
    "* Train model using SGD optimizer with nesterov momentum term. Instructions can be found via [this](https://keras.io/api/optimizers/sgd/) link.  \n",
    "* Compare the results.\n",
    "\n",
    "  Optional: Log results with wandb"
   ]
  },
  {
   "cell_type": "markdown",
   "metadata": {
    "id": "kTL-YjMr7VLI"
   },
   "source": [
    "<font color=\"lime\"> ==YOUR ANSWER== </font>"
   ]
  },
  {
   "cell_type": "code",
   "execution_count": 71,
   "metadata": {
    "colab": {
     "base_uri": "https://localhost:8080/",
     "height": 1000
    },
    "id": "gqI01CZRS5pK",
    "outputId": "195dfd81-2596-498f-80f2-737dffe3d0f0"
   },
   "outputs": [
    {
     "name": "stdout",
     "output_type": "stream",
     "text": [
      "Epoch 1/50\n",
      "27/27 [==============================] - 2s 64ms/step - loss: 0.8437 - val_loss: 0.4029\n",
      "Epoch 2/50\n",
      "27/27 [==============================] - 2s 56ms/step - loss: 0.2132 - val_loss: 0.0769\n",
      "Epoch 3/50\n",
      "27/27 [==============================] - 2s 57ms/step - loss: 0.0908 - val_loss: 0.0524\n",
      "Epoch 4/50\n",
      "27/27 [==============================] - 2s 57ms/step - loss: 0.0796 - val_loss: 0.0488\n",
      "Epoch 5/50\n",
      "27/27 [==============================] - 2s 57ms/step - loss: 0.0741 - val_loss: 0.0474\n",
      "Epoch 6/50\n",
      "27/27 [==============================] - 2s 56ms/step - loss: 0.0704 - val_loss: 0.0467\n",
      "Epoch 7/50\n",
      "27/27 [==============================] - 2s 56ms/step - loss: 0.0678 - val_loss: 0.0460\n",
      "Epoch 8/50\n",
      "27/27 [==============================] - 2s 56ms/step - loss: 0.0657 - val_loss: 0.0454\n",
      "Epoch 9/50\n",
      "27/27 [==============================] - 2s 59ms/step - loss: 0.0638 - val_loss: 0.0453\n",
      "Epoch 10/50\n",
      "27/27 [==============================] - 2s 87ms/step - loss: 0.0621 - val_loss: 0.0446\n",
      "Epoch 11/50\n",
      "27/27 [==============================] - 3s 118ms/step - loss: 0.0603 - val_loss: 0.0441\n",
      "Epoch 12/50\n",
      "27/27 [==============================] - 3s 116ms/step - loss: 0.0588 - val_loss: 0.0439\n",
      "Epoch 13/50\n",
      "27/27 [==============================] - 3s 102ms/step - loss: 0.0577 - val_loss: 0.0439\n",
      "Epoch 14/50\n",
      "27/27 [==============================] - 2s 92ms/step - loss: 0.0564 - val_loss: 0.0434\n",
      "Epoch 15/50\n",
      "27/27 [==============================] - 3s 96ms/step - loss: 0.0557 - val_loss: 0.0429\n",
      "Epoch 16/50\n",
      "27/27 [==============================] - 3s 100ms/step - loss: 0.0546 - val_loss: 0.0435\n",
      "Epoch 17/50\n",
      "27/27 [==============================] - 2s 90ms/step - loss: 0.0538 - val_loss: 0.0428\n",
      "Epoch 18/50\n",
      "27/27 [==============================] - 2s 68ms/step - loss: 0.0531 - val_loss: 0.0431\n",
      "Epoch 19/50\n",
      "27/27 [==============================] - 2s 56ms/step - loss: 0.0525 - val_loss: 0.0424\n",
      "Epoch 20/50\n",
      "27/27 [==============================] - 2s 57ms/step - loss: 0.0518 - val_loss: 0.0417\n",
      "Epoch 21/50\n",
      "27/27 [==============================] - 2s 56ms/step - loss: 0.0511 - val_loss: 0.0430\n",
      "Epoch 22/50\n",
      "27/27 [==============================] - 2s 56ms/step - loss: 0.0505 - val_loss: 0.0426\n",
      "Epoch 23/50\n",
      "27/27 [==============================] - 1s 56ms/step - loss: 0.0498 - val_loss: 0.0422\n",
      "Epoch 24/50\n",
      "27/27 [==============================] - 2s 56ms/step - loss: 0.0492 - val_loss: 0.0421\n",
      "Epoch 25/50\n",
      "27/27 [==============================] - 2s 57ms/step - loss: 0.0488 - val_loss: 0.0413\n",
      "Epoch 26/50\n",
      "27/27 [==============================] - 2s 56ms/step - loss: 0.0482 - val_loss: 0.0413\n",
      "Epoch 27/50\n",
      "27/27 [==============================] - 2s 56ms/step - loss: 0.0478 - val_loss: 0.0412\n",
      "Epoch 28/50\n",
      "27/27 [==============================] - 2s 57ms/step - loss: 0.0474 - val_loss: 0.0419\n",
      "Epoch 29/50\n",
      "27/27 [==============================] - 2s 56ms/step - loss: 0.0466 - val_loss: 0.0410\n",
      "Epoch 30/50\n",
      "27/27 [==============================] - 2s 57ms/step - loss: 0.0463 - val_loss: 0.0417\n",
      "Epoch 31/50\n",
      "27/27 [==============================] - 2s 56ms/step - loss: 0.0459 - val_loss: 0.0414\n",
      "Epoch 32/50\n",
      "27/27 [==============================] - 2s 58ms/step - loss: 0.0457 - val_loss: 0.0408\n",
      "Epoch 33/50\n",
      "27/27 [==============================] - 2s 57ms/step - loss: 0.0452 - val_loss: 0.0406\n",
      "Epoch 34/50\n",
      "27/27 [==============================] - 2s 59ms/step - loss: 0.0448 - val_loss: 0.0410\n",
      "Epoch 35/50\n",
      "27/27 [==============================] - 2s 66ms/step - loss: 0.0443 - val_loss: 0.0415\n",
      "Epoch 36/50\n",
      "27/27 [==============================] - 3s 110ms/step - loss: 0.0441 - val_loss: 0.0407\n",
      "Epoch 37/50\n",
      "27/27 [==============================] - 3s 95ms/step - loss: 0.0436 - val_loss: 0.0407\n",
      "Epoch 38/50\n",
      "27/27 [==============================] - 3s 102ms/step - loss: 0.0433 - val_loss: 0.0406\n",
      "Epoch 39/50\n",
      "27/27 [==============================] - 3s 96ms/step - loss: 0.0429 - val_loss: 0.0405\n",
      "Epoch 40/50\n",
      "27/27 [==============================] - 3s 99ms/step - loss: 0.0426 - val_loss: 0.0408\n",
      "Epoch 41/50\n",
      "27/27 [==============================] - 2s 83ms/step - loss: 0.0423 - val_loss: 0.0407\n",
      "Epoch 42/50\n",
      "27/27 [==============================] - 2s 85ms/step - loss: 0.0420 - val_loss: 0.0404\n",
      "Epoch 43/50\n",
      "27/27 [==============================] - 2s 81ms/step - loss: 0.0417 - val_loss: 0.0407\n",
      "Epoch 44/50\n",
      "27/27 [==============================] - 2s 57ms/step - loss: 0.0415 - val_loss: 0.0401\n",
      "Epoch 45/50\n",
      "27/27 [==============================] - 2s 58ms/step - loss: 0.0412 - val_loss: 0.0397\n",
      "Epoch 46/50\n",
      "27/27 [==============================] - 2s 58ms/step - loss: 0.0408 - val_loss: 0.0400\n",
      "Epoch 47/50\n",
      "27/27 [==============================] - 2s 59ms/step - loss: 0.0405 - val_loss: 0.0398\n",
      "Epoch 48/50\n",
      "27/27 [==============================] - 2s 57ms/step - loss: 0.0403 - val_loss: 0.0396\n",
      "Epoch 49/50\n",
      "27/27 [==============================] - 2s 57ms/step - loss: 0.0400 - val_loss: 0.0401\n",
      "Epoch 50/50\n",
      "27/27 [==============================] - 2s 58ms/step - loss: 0.0397 - val_loss: 0.0401\n"
     ]
    },
    {
     "data": {
      "image/png": "[encoded data removed]",
      "text/plain": [
       "<Figure size 432x288 with 1 Axes>"
      ]
     },
     "metadata": {
      "needs_background": "light"
     },
     "output_type": "display_data"
    }
   ],
   "source": [
    "# SGD optimizer with default hyperparameters обучили в предыдущем пункте\n",
    "# Создадим и обучим модель, используя SGD optimizer with momentum term\n",
    "model_SGD_momentum = keras.Sequential(\n",
    "    [\n",
    "        layers.Input(shape=(x_train.shape[1], x_train.shape[2])),\n",
    "        layers.Conv1D(\n",
    "            filters=32, kernel_size=7, padding=\"same\", strides=2, activation=\"relu\"\n",
    "        ),\n",
    "        layers.Dropout(rate=0.2),\n",
    "        layers.Conv1D(\n",
    "            filters=16, kernel_size=7, padding=\"same\", strides=2, activation=\"relu\"\n",
    "        ),\n",
    "        layers.Conv1DTranspose(\n",
    "            filters=16, kernel_size=7, padding=\"same\", strides=2, activation=\"relu\"\n",
    "        ),\n",
    "        layers.Dropout(rate=0.2),\n",
    "        layers.Conv1DTranspose(\n",
    "            filters=32, kernel_size=7, padding=\"same\", strides=2, activation=\"relu\"\n",
    "        ),\n",
    "        layers.Conv1DTranspose(filters=1, kernel_size=7, padding=\"same\"),\n",
    "    ]\n",
    ")\n",
    "model_SGD_momentum.compile(optimizer=keras.optimizers.SGD(learning_rate=0.01, momentum=0.5), loss=\"mse\")\n",
    "\n",
    "# Обучим её\n",
    "history_SGD_momentum = model_SGD_momentum.fit(\n",
    "    x_train,\n",
    "    x_train,\n",
    "    epochs=50,\n",
    "    batch_size=128,\n",
    "    validation_split=0.1,\n",
    "    callbacks=[\n",
    "        keras.callbacks.EarlyStopping(monitor=\"val_loss\", patience=5, mode=\"min\")\n",
    "    ],\n",
    ")\n",
    "\n",
    "# Посмотрим на графики процесса обучения\n",
    "plt.semilogy(history_SGD_momentum.history[\"loss\"], label=\"Training Loss\")\n",
    "plt.semilogy(history_SGD_momentum.history[\"val_loss\"], label=\"Validation Loss\")\n",
    "plt.ylabel('Loss value')\n",
    "plt.xlabel('epoch')\n",
    "plt.legend()\n",
    "plt.show()"
   ]
  },
  {
   "cell_type": "code",
   "execution_count": 72,
   "metadata": {
    "colab": {
     "base_uri": "https://localhost:8080/",
     "height": 1000
    },
    "id": "cv6y3uyKn75C",
    "outputId": "9f54a586-758e-4ebc-a3f0-c7134fc26e94"
   },
   "outputs": [
    {
     "name": "stdout",
     "output_type": "stream",
     "text": [
      "Epoch 1/50\n",
      "27/27 [==============================] - 2s 61ms/step - loss: 0.9161 - val_loss: 0.7733\n",
      "Epoch 2/50\n",
      "27/27 [==============================] - 2s 71ms/step - loss: 0.5064 - val_loss: 0.2735\n",
      "Epoch 3/50\n",
      "27/27 [==============================] - 1s 55ms/step - loss: 0.2366 - val_loss: 0.1475\n",
      "Epoch 4/50\n",
      "27/27 [==============================] - 1s 55ms/step - loss: 0.1510 - val_loss: 0.0908\n",
      "Epoch 5/50\n",
      "27/27 [==============================] - 2s 71ms/step - loss: 0.1143 - val_loss: 0.0669\n",
      "Epoch 6/50\n",
      "27/27 [==============================] - 1s 55ms/step - loss: 0.0990 - val_loss: 0.0585\n",
      "Epoch 7/50\n",
      "27/27 [==============================] - 1s 55ms/step - loss: 0.0917 - val_loss: 0.0551\n",
      "Epoch 8/50\n",
      "27/27 [==============================] - 1s 56ms/step - loss: 0.0873 - val_loss: 0.0530\n",
      "Epoch 9/50\n",
      "27/27 [==============================] - 2s 56ms/step - loss: 0.0835 - val_loss: 0.0525\n",
      "Epoch 10/50\n",
      "27/27 [==============================] - 2s 72ms/step - loss: 0.0808 - val_loss: 0.0514\n",
      "Epoch 11/50\n",
      "27/27 [==============================] - 2s 91ms/step - loss: 0.0784 - val_loss: 0.0516\n",
      "Epoch 12/50\n",
      "27/27 [==============================] - 3s 123ms/step - loss: 0.0765 - val_loss: 0.0514\n",
      "Epoch 13/50\n",
      "27/27 [==============================] - 3s 114ms/step - loss: 0.0743 - val_loss: 0.0503\n",
      "Epoch 14/50\n",
      "27/27 [==============================] - 3s 103ms/step - loss: 0.0730 - val_loss: 0.0501\n",
      "Epoch 15/50\n",
      "27/27 [==============================] - 2s 83ms/step - loss: 0.0712 - val_loss: 0.0495\n",
      "Epoch 16/50\n",
      "27/27 [==============================] - 3s 95ms/step - loss: 0.0698 - val_loss: 0.0501\n",
      "Epoch 17/50\n",
      "27/27 [==============================] - 3s 110ms/step - loss: 0.0683 - val_loss: 0.0496\n",
      "Epoch 18/50\n",
      "27/27 [==============================] - 2s 90ms/step - loss: 0.0672 - val_loss: 0.0488\n",
      "Epoch 19/50\n",
      "27/27 [==============================] - 3s 99ms/step - loss: 0.0660 - val_loss: 0.0479\n",
      "Epoch 20/50\n",
      "27/27 [==============================] - 2s 80ms/step - loss: 0.0652 - val_loss: 0.0496\n",
      "Epoch 21/50\n",
      "27/27 [==============================] - 2s 83ms/step - loss: 0.0639 - val_loss: 0.0487\n",
      "Epoch 22/50\n",
      "27/27 [==============================] - 2s 78ms/step - loss: 0.0632 - val_loss: 0.0495\n",
      "Epoch 23/50\n",
      "27/27 [==============================] - 1s 55ms/step - loss: 0.0622 - val_loss: 0.0491\n",
      "Epoch 24/50\n",
      "27/27 [==============================] - 1s 54ms/step - loss: 0.0613 - val_loss: 0.0495\n"
     ]
    },
    {
     "data": {
      "image/png": "[encoded data removed]",
      "text/plain": [
       "<Figure size 432x288 with 1 Axes>"
      ]
     },
     "metadata": {
      "needs_background": "light"
     },
     "output_type": "display_data"
    }
   ],
   "source": [
    "# SGD optimizer with nesterov momentum term\n",
    "# Создадим и обучим модель, используя SGD optimizer with Nesterov momentum term\n",
    "model_SGD_nesterov = keras.Sequential(\n",
    "    [\n",
    "        layers.Input(shape=(x_train.shape[1], x_train.shape[2])),\n",
    "        layers.Conv1D(\n",
    "            filters=32, kernel_size=7, padding=\"same\", strides=2, activation=\"relu\"\n",
    "        ),\n",
    "        layers.Dropout(rate=0.2),\n",
    "        layers.Conv1D(\n",
    "            filters=16, kernel_size=7, padding=\"same\", strides=2, activation=\"relu\"\n",
    "        ),\n",
    "        layers.Conv1DTranspose(\n",
    "            filters=16, kernel_size=7, padding=\"same\", strides=2, activation=\"relu\"\n",
    "        ),\n",
    "        layers.Dropout(rate=0.2),\n",
    "        layers.Conv1DTranspose(\n",
    "            filters=32, kernel_size=7, padding=\"same\", strides=2, activation=\"relu\"\n",
    "        ),\n",
    "        layers.Conv1DTranspose(filters=1, kernel_size=7, padding=\"same\"),\n",
    "    ]\n",
    ")\n",
    "model_SGD_nesterov.compile(optimizer=keras.optimizers.SGD(learning_rate=0.01, nesterov=True), loss=\"mse\")\n",
    "\n",
    "# Обучим её\n",
    "history_SGD_nesterov = model_SGD_nesterov.fit(\n",
    "    x_train,\n",
    "    x_train,\n",
    "    epochs=50,\n",
    "    batch_size=128,\n",
    "    validation_split=0.1,\n",
    "    callbacks=[\n",
    "        keras.callbacks.EarlyStopping(monitor=\"val_loss\", patience=5, mode=\"min\")\n",
    "    ],\n",
    ")\n",
    "\n",
    "# Посмотрим на графики процесса обучения\n",
    "plt.semilogy(history_SGD_nesterov.history[\"loss\"], label=\"Training Loss\")\n",
    "plt.semilogy(history_SGD_nesterov.history[\"val_loss\"], label=\"Validation Loss\")\n",
    "plt.ylabel('Loss value')\n",
    "plt.xlabel('epoch')\n",
    "plt.legend()\n",
    "plt.show()"
   ]
  },
  {
   "cell_type": "markdown",
   "metadata": {
    "id": "xtqdPfNc4vZH"
   },
   "source": [
    "Nestrov momentum сходится медленнее."
   ]
  },
  {
   "cell_type": "markdown",
   "metadata": {
    "id": "hBA9Go-KS77I"
   },
   "source": [
    "### Adaptive methods\n",
    "* Train model using SGD optimizer with default hyperparameters. \n",
    "* Train model using any adaptive method. Instructions can be found via [this](https://keras.io/api/optimizers/) link.  \n",
    "* Compare the results.\n",
    "* Try to perform different runs of SGD + Momentum and select the best hyperparameters. Do the same for the Adam in the similar setting. Compare the results.\n",
    "\n",
    "  Optional: Log results with wandb"
   ]
  },
  {
   "cell_type": "markdown",
   "metadata": {
    "id": "KFtIEanA7Vm5"
   },
   "source": [
    "<font color=\"lime\"> ==YOUR ANSWER== </font>"
   ]
  },
  {
   "cell_type": "code",
   "execution_count": 74,
   "metadata": {
    "colab": {
     "base_uri": "https://localhost:8080/",
     "height": 998
    },
    "id": "Ks3AaUqxTQty",
    "outputId": "a545f6a0-60c3-4289-d3ff-fa7f2ee16e10"
   },
   "outputs": [
    {
     "name": "stdout",
     "output_type": "stream",
     "text": [
      "Epoch 1/50\n",
      "27/27 [==============================] - 2s 61ms/step - loss: 0.9315 - val_loss: 0.1096\n",
      "Epoch 2/50\n",
      "27/27 [==============================] - 1s 54ms/step - loss: 0.1171 - val_loss: 0.0824\n",
      "Epoch 3/50\n",
      "27/27 [==============================] - 1s 54ms/step - loss: 0.1044 - val_loss: 0.0714\n",
      "Epoch 4/50\n",
      "27/27 [==============================] - 1s 53ms/step - loss: 0.0713 - val_loss: 0.0587\n",
      "Epoch 5/50\n",
      "27/27 [==============================] - 1s 54ms/step - loss: 0.0465 - val_loss: 0.0223\n",
      "Epoch 6/50\n",
      "27/27 [==============================] - 1s 53ms/step - loss: 0.0336 - val_loss: 0.0450\n",
      "Epoch 7/50\n",
      "27/27 [==============================] - 1s 54ms/step - loss: 0.0551 - val_loss: 0.0302\n",
      "Epoch 8/50\n",
      "27/27 [==============================] - 2s 56ms/step - loss: 0.0514 - val_loss: 0.4451\n",
      "Epoch 9/50\n",
      "27/27 [==============================] - 2s 56ms/step - loss: 0.0565 - val_loss: 0.0176\n",
      "Epoch 10/50\n",
      "27/27 [==============================] - 2s 56ms/step - loss: 0.0247 - val_loss: 0.0530\n",
      "Epoch 11/50\n",
      "27/27 [==============================] - 1s 55ms/step - loss: 0.0454 - val_loss: 0.0192\n",
      "Epoch 12/50\n",
      "27/27 [==============================] - 2s 56ms/step - loss: 0.0321 - val_loss: 0.0173\n",
      "Epoch 13/50\n",
      "27/27 [==============================] - 2s 56ms/step - loss: 0.0231 - val_loss: 0.0150\n",
      "Epoch 14/50\n",
      "27/27 [==============================] - 2s 57ms/step - loss: 0.0222 - val_loss: 0.9562\n",
      "Epoch 15/50\n",
      "27/27 [==============================] - 2s 68ms/step - loss: 0.0620 - val_loss: 0.0212\n",
      "Epoch 16/50\n",
      "27/27 [==============================] - 2s 56ms/step - loss: 0.0213 - val_loss: 0.0226\n",
      "Epoch 17/50\n",
      "27/27 [==============================] - 2s 63ms/step - loss: 0.0209 - val_loss: 0.0165\n",
      "Epoch 18/50\n",
      "27/27 [==============================] - 2s 60ms/step - loss: 0.0210 - val_loss: 0.0154\n"
     ]
    },
    {
     "data": {
      "image/png": "[encoded data removed]",
      "text/plain": [
       "<Figure size 432x288 with 1 Axes>"
      ]
     },
     "metadata": {
      "needs_background": "light"
     },
     "output_type": "display_data"
    }
   ],
   "source": [
    "# Аналогично SGD optimizer with default hyperparameters посмотрим в начале\n",
    "# Создадим и обучим модель, используя RMSprop optimizer (адаптивный алгоритм)\n",
    "model_RMS = keras.Sequential(\n",
    "    [\n",
    "        layers.Input(shape=(x_train.shape[1], x_train.shape[2])),\n",
    "        layers.Conv1D(\n",
    "            filters=32, kernel_size=7, padding=\"same\", strides=2, activation=\"relu\"\n",
    "        ),\n",
    "        layers.Dropout(rate=0.2),\n",
    "        layers.Conv1D(\n",
    "            filters=16, kernel_size=7, padding=\"same\", strides=2, activation=\"relu\"\n",
    "        ),\n",
    "        layers.Conv1DTranspose(\n",
    "            filters=16, kernel_size=7, padding=\"same\", strides=2, activation=\"relu\"\n",
    "        ),\n",
    "        layers.Dropout(rate=0.2),\n",
    "        layers.Conv1DTranspose(\n",
    "            filters=32, kernel_size=7, padding=\"same\", strides=2, activation=\"relu\"\n",
    "        ),\n",
    "        layers.Conv1DTranspose(filters=1, kernel_size=7, padding=\"same\"),\n",
    "    ]\n",
    ")\n",
    "model_RMS.compile(optimizer=keras.optimizers.RMSprop(learning_rate=0.01), loss=\"mse\")\n",
    "\n",
    "# Обучим её\n",
    "history_RMS = model_RMS.fit(\n",
    "    x_train,\n",
    "    x_train,\n",
    "    epochs=50,\n",
    "    batch_size=128,\n",
    "    validation_split=0.1,\n",
    "    callbacks=[\n",
    "        keras.callbacks.EarlyStopping(monitor=\"val_loss\", patience=5, mode=\"min\")\n",
    "    ],\n",
    ")\n",
    "\n",
    "# Посмотрим на графики процесса обучения\n",
    "plt.semilogy(history_RMS.history[\"loss\"], label=\"Training Loss\")\n",
    "plt.semilogy(history_RMS.history[\"val_loss\"], label=\"Validation Loss\")\n",
    "plt.ylabel('Loss value')\n",
    "plt.xlabel('epoch')\n",
    "plt.legend()\n",
    "plt.show()"
   ]
  },
  {
   "cell_type": "code",
   "execution_count": 75,
   "metadata": {
    "colab": {
     "base_uri": "https://localhost:8080/",
     "height": 1000
    },
    "id": "cNP2JANf6Sha",
    "outputId": "6c0d7da8-c05c-40d7-e912-a32346a40a9e"
   },
   "outputs": [
    {
     "name": "stdout",
     "output_type": "stream",
     "text": [
      "Epoch 1/50\n",
      "27/27 [==============================] - 2s 60ms/step - loss: 0.4475 - val_loss: 0.0527\n",
      "Epoch 2/50\n",
      "27/27 [==============================] - 1s 53ms/step - loss: 0.0559 - val_loss: 0.0384\n",
      "Epoch 3/50\n",
      "27/27 [==============================] - 1s 54ms/step - loss: 0.0487 - val_loss: 0.0368\n",
      "Epoch 4/50\n",
      "27/27 [==============================] - 1s 54ms/step - loss: 0.0445 - val_loss: 0.0361\n",
      "Epoch 5/50\n",
      "27/27 [==============================] - 2s 61ms/step - loss: 0.0412 - val_loss: 0.0353\n",
      "Epoch 6/50\n",
      "27/27 [==============================] - 2s 79ms/step - loss: 0.0384 - val_loss: 0.0336\n",
      "Epoch 7/50\n",
      "27/27 [==============================] - 2s 77ms/step - loss: 0.0363 - val_loss: 0.0321\n",
      "Epoch 8/50\n",
      "27/27 [==============================] - 3s 112ms/step - loss: 0.0345 - val_loss: 0.0322\n",
      "Epoch 9/50\n",
      "27/27 [==============================] - 3s 93ms/step - loss: 0.0329 - val_loss: 0.0305\n",
      "Epoch 10/50\n",
      "27/27 [==============================] - 3s 96ms/step - loss: 0.0316 - val_loss: 0.0302\n",
      "Epoch 11/50\n",
      "27/27 [==============================] - 2s 81ms/step - loss: 0.0305 - val_loss: 0.0302\n",
      "Epoch 12/50\n",
      "27/27 [==============================] - 2s 70ms/step - loss: 0.0295 - val_loss: 0.0287\n",
      "Epoch 13/50\n",
      "27/27 [==============================] - 2s 83ms/step - loss: 0.0286 - val_loss: 0.0287\n",
      "Epoch 14/50\n",
      "27/27 [==============================] - 2s 68ms/step - loss: 0.0278 - val_loss: 0.0306\n",
      "Epoch 15/50\n",
      "27/27 [==============================] - 1s 55ms/step - loss: 0.0271 - val_loss: 0.0282\n",
      "Epoch 16/50\n",
      "27/27 [==============================] - 2s 83ms/step - loss: 0.0266 - val_loss: 0.0271\n",
      "Epoch 17/50\n",
      "27/27 [==============================] - 2s 72ms/step - loss: 0.0261 - val_loss: 0.0277\n",
      "Epoch 18/50\n",
      "27/27 [==============================] - 2s 77ms/step - loss: 0.0256 - val_loss: 0.0279\n",
      "Epoch 19/50\n",
      "27/27 [==============================] - 2s 67ms/step - loss: 0.0251 - val_loss: 0.0282\n",
      "Epoch 20/50\n",
      "27/27 [==============================] - 2s 68ms/step - loss: 0.0248 - val_loss: 0.0272\n",
      "Epoch 21/50\n",
      "27/27 [==============================] - 2s 66ms/step - loss: 0.0244 - val_loss: 0.0271\n",
      "Epoch 22/50\n",
      "27/27 [==============================] - 2s 77ms/step - loss: 0.0241 - val_loss: 0.0271\n",
      "Epoch 23/50\n",
      "27/27 [==============================] - 2s 74ms/step - loss: 0.0238 - val_loss: 0.0270\n",
      "Epoch 24/50\n",
      "27/27 [==============================] - 2s 70ms/step - loss: 0.0235 - val_loss: 0.0250\n",
      "Epoch 25/50\n",
      "27/27 [==============================] - 2s 72ms/step - loss: 0.0233 - val_loss: 0.0255\n",
      "Epoch 26/50\n",
      "27/27 [==============================] - 2s 78ms/step - loss: 0.0230 - val_loss: 0.0260\n",
      "Epoch 27/50\n",
      "27/27 [==============================] - 2s 68ms/step - loss: 0.0228 - val_loss: 0.0250\n",
      "Epoch 28/50\n",
      "27/27 [==============================] - 1s 54ms/step - loss: 0.0226 - val_loss: 0.0236\n",
      "Epoch 29/50\n",
      "27/27 [==============================] - 2s 59ms/step - loss: 0.0223 - val_loss: 0.0238\n",
      "Epoch 30/50\n",
      "27/27 [==============================] - 2s 67ms/step - loss: 0.0221 - val_loss: 0.0235\n",
      "Epoch 31/50\n",
      "27/27 [==============================] - 2s 74ms/step - loss: 0.0220 - val_loss: 0.0229\n",
      "Epoch 32/50\n",
      "27/27 [==============================] - 2s 78ms/step - loss: 0.0218 - val_loss: 0.0251\n",
      "Epoch 33/50\n",
      "27/27 [==============================] - 2s 68ms/step - loss: 0.0216 - val_loss: 0.0231\n",
      "Epoch 34/50\n",
      "27/27 [==============================] - 2s 60ms/step - loss: 0.0214 - val_loss: 0.0236\n",
      "Epoch 35/50\n",
      "27/27 [==============================] - 2s 73ms/step - loss: 0.0213 - val_loss: 0.0220\n",
      "Epoch 36/50\n",
      "27/27 [==============================] - 2s 71ms/step - loss: 0.0211 - val_loss: 0.0218\n",
      "Epoch 37/50\n",
      "27/27 [==============================] - 2s 65ms/step - loss: 0.0209 - val_loss: 0.0231\n",
      "Epoch 38/50\n",
      "27/27 [==============================] - 2s 78ms/step - loss: 0.0208 - val_loss: 0.0220\n",
      "Epoch 39/50\n",
      "27/27 [==============================] - 3s 94ms/step - loss: 0.0206 - val_loss: 0.0231\n",
      "Epoch 40/50\n",
      "27/27 [==============================] - 2s 76ms/step - loss: 0.0205 - val_loss: 0.0211\n",
      "Epoch 41/50\n",
      "27/27 [==============================] - 2s 56ms/step - loss: 0.0203 - val_loss: 0.0204\n",
      "Epoch 42/50\n",
      "27/27 [==============================] - 1s 56ms/step - loss: 0.0202 - val_loss: 0.0217\n",
      "Epoch 43/50\n",
      "27/27 [==============================] - 1s 55ms/step - loss: 0.0201 - val_loss: 0.0219\n",
      "Epoch 44/50\n",
      "27/27 [==============================] - 1s 55ms/step - loss: 0.0200 - val_loss: 0.0210\n",
      "Epoch 45/50\n",
      "27/27 [==============================] - 2s 78ms/step - loss: 0.0199 - val_loss: 0.0208\n",
      "Epoch 46/50\n",
      "27/27 [==============================] - 2s 72ms/step - loss: 0.0197 - val_loss: 0.0226\n"
     ]
    },
    {
     "data": {
      "image/png": "[encoded data removed]",
      "text/plain": [
       "<Figure size 432x288 with 1 Axes>"
      ]
     },
     "metadata": {
      "needs_background": "light"
     },
     "output_type": "display_data"
    }
   ],
   "source": [
    "# Поподбираем гиперпараметры\n",
    "# сравним сначала для разных learning_rate\n",
    "# здесь learning_rate=0.1\n",
    "model_SGD_momentum = keras.Sequential(\n",
    "    [\n",
    "        layers.Input(shape=(x_train.shape[1], x_train.shape[2])),\n",
    "        layers.Conv1D(\n",
    "            filters=32, kernel_size=7, padding=\"same\", strides=2, activation=\"relu\"\n",
    "        ),\n",
    "        layers.Dropout(rate=0.2),\n",
    "        layers.Conv1D(\n",
    "            filters=16, kernel_size=7, padding=\"same\", strides=2, activation=\"relu\"\n",
    "        ),\n",
    "        layers.Conv1DTranspose(\n",
    "            filters=16, kernel_size=7, padding=\"same\", strides=2, activation=\"relu\"\n",
    "        ),\n",
    "        layers.Dropout(rate=0.2),\n",
    "        layers.Conv1DTranspose(\n",
    "            filters=32, kernel_size=7, padding=\"same\", strides=2, activation=\"relu\"\n",
    "        ),\n",
    "        layers.Conv1DTranspose(filters=1, kernel_size=7, padding=\"same\"),\n",
    "    ]\n",
    ")\n",
    "model_SGD_momentum.compile(optimizer=keras.optimizers.SGD(learning_rate=0.1, momentum=0.5), loss=\"mse\")\n",
    "\n",
    "# Обучим её\n",
    "history_SGD_momentum = model_SGD_momentum.fit(\n",
    "    x_train,\n",
    "    x_train,\n",
    "    epochs=50,\n",
    "    batch_size=128,\n",
    "    validation_split=0.1,\n",
    "    callbacks=[\n",
    "        keras.callbacks.EarlyStopping(monitor=\"val_loss\", patience=5, mode=\"min\")\n",
    "    ],\n",
    ")\n",
    "\n",
    "# Посмотрим на графики процесса обучения\n",
    "plt.semilogy(history_SGD_momentum.history[\"loss\"], label=\"Training Loss\")\n",
    "plt.semilogy(history_SGD_momentum.history[\"val_loss\"], label=\"Validation Loss\")\n",
    "plt.ylabel('Loss value')\n",
    "plt.xlabel('epoch')\n",
    "plt.legend()\n",
    "plt.show()"
   ]
  },
  {
   "cell_type": "code",
   "execution_count": 76,
   "metadata": {
    "colab": {
     "base_uri": "https://localhost:8080/",
     "height": 1000
    },
    "id": "0IJreBzc6Soa",
    "outputId": "a810b51f-9c94-4d16-8a70-5bda7d0dc600"
   },
   "outputs": [
    {
     "name": "stdout",
     "output_type": "stream",
     "text": [
      "Epoch 1/50\n",
      "27/27 [==============================] - 3s 65ms/step - loss: 0.9282 - val_loss: 0.7407\n",
      "Epoch 2/50\n",
      "27/27 [==============================] - 1s 51ms/step - loss: 0.4102 - val_loss: 0.1715\n",
      "Epoch 3/50\n",
      "27/27 [==============================] - 1s 51ms/step - loss: 0.1440 - val_loss: 0.0756\n",
      "Epoch 4/50\n",
      "27/27 [==============================] - 1s 54ms/step - loss: 0.0983 - val_loss: 0.0579\n",
      "Epoch 5/50\n",
      "27/27 [==============================] - 1s 54ms/step - loss: 0.0902 - val_loss: 0.0538\n",
      "Epoch 6/50\n",
      "27/27 [==============================] - 1s 54ms/step - loss: 0.0873 - val_loss: 0.0526\n",
      "Epoch 7/50\n",
      "27/27 [==============================] - 1s 54ms/step - loss: 0.0842 - val_loss: 0.0520\n",
      "Epoch 8/50\n",
      "27/27 [==============================] - 1s 54ms/step - loss: 0.0820 - val_loss: 0.0510\n",
      "Epoch 9/50\n",
      "27/27 [==============================] - 1s 54ms/step - loss: 0.0800 - val_loss: 0.0501\n",
      "Epoch 10/50\n",
      "27/27 [==============================] - 1s 54ms/step - loss: 0.0781 - val_loss: 0.0501\n",
      "Epoch 11/50\n",
      "27/27 [==============================] - 1s 54ms/step - loss: 0.0766 - val_loss: 0.0501\n",
      "Epoch 12/50\n",
      "27/27 [==============================] - 1s 53ms/step - loss: 0.0753 - val_loss: 0.0495\n",
      "Epoch 13/50\n",
      "27/27 [==============================] - 2s 56ms/step - loss: 0.0736 - val_loss: 0.0493\n",
      "Epoch 14/50\n",
      "27/27 [==============================] - 1s 54ms/step - loss: 0.0726 - val_loss: 0.0490\n",
      "Epoch 15/50\n",
      "27/27 [==============================] - 1s 55ms/step - loss: 0.0710 - val_loss: 0.0485\n",
      "Epoch 16/50\n",
      "27/27 [==============================] - 1s 55ms/step - loss: 0.0699 - val_loss: 0.0480\n",
      "Epoch 17/50\n",
      "27/27 [==============================] - 2s 58ms/step - loss: 0.0691 - val_loss: 0.0479\n",
      "Epoch 18/50\n",
      "27/27 [==============================] - 2s 62ms/step - loss: 0.0679 - val_loss: 0.0478\n",
      "Epoch 19/50\n",
      "27/27 [==============================] - 1s 55ms/step - loss: 0.0672 - val_loss: 0.0477\n",
      "Epoch 20/50\n",
      "27/27 [==============================] - 1s 54ms/step - loss: 0.0663 - val_loss: 0.0473\n",
      "Epoch 21/50\n",
      "27/27 [==============================] - 1s 54ms/step - loss: 0.0656 - val_loss: 0.0468\n",
      "Epoch 22/50\n",
      "27/27 [==============================] - 1s 54ms/step - loss: 0.0647 - val_loss: 0.0468\n",
      "Epoch 23/50\n",
      "27/27 [==============================] - 1s 54ms/step - loss: 0.0639 - val_loss: 0.0472\n",
      "Epoch 24/50\n",
      "27/27 [==============================] - 2s 56ms/step - loss: 0.0631 - val_loss: 0.0472\n",
      "Epoch 25/50\n",
      "27/27 [==============================] - 1s 54ms/step - loss: 0.0624 - val_loss: 0.0468\n",
      "Epoch 26/50\n",
      "27/27 [==============================] - 1s 54ms/step - loss: 0.0619 - val_loss: 0.0465\n",
      "Epoch 27/50\n",
      "27/27 [==============================] - 2s 58ms/step - loss: 0.0612 - val_loss: 0.0459\n",
      "Epoch 28/50\n",
      "27/27 [==============================] - 2s 67ms/step - loss: 0.0606 - val_loss: 0.0459\n",
      "Epoch 29/50\n",
      "27/27 [==============================] - 2s 63ms/step - loss: 0.0601 - val_loss: 0.0459\n",
      "Epoch 30/50\n",
      "27/27 [==============================] - 2s 84ms/step - loss: 0.0594 - val_loss: 0.0455\n",
      "Epoch 31/50\n",
      "27/27 [==============================] - 2s 67ms/step - loss: 0.0591 - val_loss: 0.0451\n",
      "Epoch 32/50\n",
      "27/27 [==============================] - 2s 84ms/step - loss: 0.0585 - val_loss: 0.0451\n",
      "Epoch 33/50\n",
      "27/27 [==============================] - 2s 91ms/step - loss: 0.0579 - val_loss: 0.0446\n",
      "Epoch 34/50\n",
      "27/27 [==============================] - 2s 77ms/step - loss: 0.0575 - val_loss: 0.0448\n",
      "Epoch 35/50\n",
      "27/27 [==============================] - 2s 87ms/step - loss: 0.0569 - val_loss: 0.0439\n",
      "Epoch 36/50\n",
      "27/27 [==============================] - 2s 72ms/step - loss: 0.0563 - val_loss: 0.0445\n",
      "Epoch 37/50\n",
      "27/27 [==============================] - 2s 68ms/step - loss: 0.0561 - val_loss: 0.0438\n",
      "Epoch 38/50\n",
      "27/27 [==============================] - 2s 63ms/step - loss: 0.0554 - val_loss: 0.0442\n",
      "Epoch 39/50\n",
      "27/27 [==============================] - 2s 85ms/step - loss: 0.0552 - val_loss: 0.0438\n",
      "Epoch 40/50\n",
      "27/27 [==============================] - 2s 68ms/step - loss: 0.0546 - val_loss: 0.0435\n",
      "Epoch 41/50\n",
      "27/27 [==============================] - 2s 89ms/step - loss: 0.0543 - val_loss: 0.0431\n",
      "Epoch 42/50\n",
      "27/27 [==============================] - 3s 97ms/step - loss: 0.0540 - val_loss: 0.0434\n",
      "Epoch 43/50\n",
      "27/27 [==============================] - 1s 54ms/step - loss: 0.0534 - val_loss: 0.0433\n",
      "Epoch 44/50\n",
      "27/27 [==============================] - 1s 54ms/step - loss: 0.0530 - val_loss: 0.0430\n",
      "Epoch 45/50\n",
      "27/27 [==============================] - 1s 53ms/step - loss: 0.0526 - val_loss: 0.0429\n",
      "Epoch 46/50\n",
      "27/27 [==============================] - 1s 53ms/step - loss: 0.0524 - val_loss: 0.0425\n",
      "Epoch 47/50\n",
      "27/27 [==============================] - 1s 54ms/step - loss: 0.0519 - val_loss: 0.0431\n",
      "Epoch 48/50\n",
      "27/27 [==============================] - 1s 55ms/step - loss: 0.0515 - val_loss: 0.0424\n",
      "Epoch 49/50\n",
      "27/27 [==============================] - 1s 54ms/step - loss: 0.0512 - val_loss: 0.0426\n",
      "Epoch 50/50\n",
      "27/27 [==============================] - 2s 67ms/step - loss: 0.0509 - val_loss: 0.0424\n"
     ]
    },
    {
     "data": {
      "image/png": "[encoded data removed]",
      "text/plain": [
       "<Figure size 432x288 with 1 Axes>"
      ]
     },
     "metadata": {
      "needs_background": "light"
     },
     "output_type": "display_data"
    }
   ],
   "source": [
    "# learning_rate=0.005\n",
    "model_SGD_momentum = keras.Sequential(\n",
    "    [\n",
    "        layers.Input(shape=(x_train.shape[1], x_train.shape[2])),\n",
    "        layers.Conv1D(\n",
    "            filters=32, kernel_size=7, padding=\"same\", strides=2, activation=\"relu\"\n",
    "        ),\n",
    "        layers.Dropout(rate=0.2),\n",
    "        layers.Conv1D(\n",
    "            filters=16, kernel_size=7, padding=\"same\", strides=2, activation=\"relu\"\n",
    "        ),\n",
    "        layers.Conv1DTranspose(\n",
    "            filters=16, kernel_size=7, padding=\"same\", strides=2, activation=\"relu\"\n",
    "        ),\n",
    "        layers.Dropout(rate=0.2),\n",
    "        layers.Conv1DTranspose(\n",
    "            filters=32, kernel_size=7, padding=\"same\", strides=2, activation=\"relu\"\n",
    "        ),\n",
    "        layers.Conv1DTranspose(filters=1, kernel_size=7, padding=\"same\"),\n",
    "    ]\n",
    ")\n",
    "model_SGD_momentum.compile(optimizer=keras.optimizers.SGD(learning_rate=0.005, momentum=0.5), loss=\"mse\")\n",
    "\n",
    "# Обучим её\n",
    "history_SGD_momentum = model_SGD_momentum.fit(\n",
    "    x_train,\n",
    "    x_train,\n",
    "    epochs=50,\n",
    "    batch_size=128,\n",
    "    validation_split=0.1,\n",
    "    callbacks=[\n",
    "        keras.callbacks.EarlyStopping(monitor=\"val_loss\", patience=5, mode=\"min\")\n",
    "    ],\n",
    ")\n",
    "\n",
    "# Посмотрим на графики процесса обучения\n",
    "plt.semilogy(history_SGD_momentum.history[\"loss\"], label=\"Training Loss\")\n",
    "plt.semilogy(history_SGD_momentum.history[\"val_loss\"], label=\"Validation Loss\")\n",
    "plt.ylabel('Loss value')\n",
    "plt.xlabel('epoch')\n",
    "plt.legend()\n",
    "plt.show()"
   ]
  },
  {
   "cell_type": "code",
   "execution_count": 77,
   "metadata": {
    "colab": {
     "base_uri": "https://localhost:8080/",
     "height": 758
    },
    "id": "r1HIqBkd6Sr2",
    "outputId": "003e05d9-0919-4968-975b-27d39c51959a"
   },
   "outputs": [
    {
     "name": "stdout",
     "output_type": "stream",
     "text": [
      "Epoch 1/50\n",
      "27/27 [==============================] - 2s 60ms/step - loss: 0.6677 - val_loss: 0.4513\n",
      "Epoch 2/50\n",
      "27/27 [==============================] - 1s 55ms/step - loss: 0.3483 - val_loss: 0.1741\n",
      "Epoch 3/50\n",
      "27/27 [==============================] - 1s 55ms/step - loss: 0.2535 - val_loss: 0.2163\n",
      "Epoch 4/50\n",
      "27/27 [==============================] - 1s 55ms/step - loss: 0.1172 - val_loss: 0.0420\n",
      "Epoch 5/50\n",
      "27/27 [==============================] - 1s 54ms/step - loss: 0.0809 - val_loss: 0.0853\n",
      "Epoch 6/50\n",
      "27/27 [==============================] - 1s 55ms/step - loss: 0.0736 - val_loss: 0.0889\n",
      "Epoch 7/50\n",
      "27/27 [==============================] - 2s 56ms/step - loss: 0.0716 - val_loss: 0.0349\n",
      "Epoch 8/50\n",
      "27/27 [==============================] - 3s 94ms/step - loss: 0.0719 - val_loss: 0.0872\n",
      "Epoch 9/50\n",
      "27/27 [==============================] - 3s 97ms/step - loss: 0.0730 - val_loss: 0.0508\n",
      "Epoch 10/50\n",
      "27/27 [==============================] - 2s 73ms/step - loss: 0.0645 - val_loss: 0.0861\n",
      "Epoch 11/50\n",
      "27/27 [==============================] - 2s 68ms/step - loss: 0.0602 - val_loss: 0.0409\n",
      "Epoch 12/50\n",
      "27/27 [==============================] - 2s 76ms/step - loss: 0.0525 - val_loss: 0.0394\n"
     ]
    },
    {
     "data": {
      "image/png": "[encoded data removed]",
      "text/plain": [
       "<Figure size 432x288 with 1 Axes>"
      ]
     },
     "metadata": {
      "needs_background": "light"
     },
     "output_type": "display_data"
    }
   ],
   "source": [
    "# посмотрим на разные momentum\n",
    "# здесь momentum=1\n",
    "model_SGD_momentum = keras.Sequential(\n",
    "    [\n",
    "        layers.Input(shape=(x_train.shape[1], x_train.shape[2])),\n",
    "        layers.Conv1D(\n",
    "            filters=32, kernel_size=7, padding=\"same\", strides=2, activation=\"relu\"\n",
    "        ),\n",
    "        layers.Dropout(rate=0.2),\n",
    "        layers.Conv1D(\n",
    "            filters=16, kernel_size=7, padding=\"same\", strides=2, activation=\"relu\"\n",
    "        ),\n",
    "        layers.Conv1DTranspose(\n",
    "            filters=16, kernel_size=7, padding=\"same\", strides=2, activation=\"relu\"\n",
    "        ),\n",
    "        layers.Dropout(rate=0.2),\n",
    "        layers.Conv1DTranspose(\n",
    "            filters=32, kernel_size=7, padding=\"same\", strides=2, activation=\"relu\"\n",
    "        ),\n",
    "        layers.Conv1DTranspose(filters=1, kernel_size=7, padding=\"same\"),\n",
    "    ]\n",
    ")\n",
    "model_SGD_momentum.compile(optimizer=keras.optimizers.SGD(learning_rate=0.01, momentum=1), loss=\"mse\")\n",
    "\n",
    "# Обучим её\n",
    "history_SGD_momentum = model_SGD_momentum.fit(\n",
    "    x_train,\n",
    "    x_train,\n",
    "    epochs=50,\n",
    "    batch_size=128,\n",
    "    validation_split=0.1,\n",
    "    callbacks=[\n",
    "        keras.callbacks.EarlyStopping(monitor=\"val_loss\", patience=5, mode=\"min\")\n",
    "    ],\n",
    ")\n",
    "\n",
    "# Посмотрим на графики процесса обучения\n",
    "plt.semilogy(history_SGD_momentum.history[\"loss\"], label=\"Training Loss\")\n",
    "plt.semilogy(history_SGD_momentum.history[\"val_loss\"], label=\"Validation Loss\")\n",
    "plt.ylabel('Loss value')\n",
    "plt.xlabel('epoch')\n",
    "plt.legend()\n",
    "plt.show()"
   ]
  },
  {
   "cell_type": "code",
   "execution_count": 78,
   "metadata": {
    "colab": {
     "base_uri": "https://localhost:8080/",
     "height": 1000
    },
    "id": "YPI-vi0E6SuZ",
    "outputId": "fd5018f6-a513-44f3-ce60-d6405685b076"
   },
   "outputs": [
    {
     "name": "stdout",
     "output_type": "stream",
     "text": [
      "Epoch 1/50\n",
      "27/27 [==============================] - 2s 57ms/step - loss: 0.9441 - val_loss: 0.8643\n",
      "Epoch 2/50\n",
      "27/27 [==============================] - 1s 51ms/step - loss: 0.7143 - val_loss: 0.4556\n",
      "Epoch 3/50\n",
      "27/27 [==============================] - 1s 52ms/step - loss: 0.2877 - val_loss: 0.1166\n",
      "Epoch 4/50\n",
      "27/27 [==============================] - 1s 50ms/step - loss: 0.1049 - val_loss: 0.0591\n",
      "Epoch 5/50\n",
      "27/27 [==============================] - 1s 50ms/step - loss: 0.0816 - val_loss: 0.0533\n",
      "Epoch 6/50\n",
      "27/27 [==============================] - 1s 52ms/step - loss: 0.0760 - val_loss: 0.0505\n",
      "Epoch 7/50\n",
      "27/27 [==============================] - 1s 50ms/step - loss: 0.0724 - val_loss: 0.0487\n",
      "Epoch 8/50\n",
      "27/27 [==============================] - 1s 51ms/step - loss: 0.0699 - val_loss: 0.0474\n",
      "Epoch 9/50\n",
      "27/27 [==============================] - 1s 51ms/step - loss: 0.0678 - val_loss: 0.0464\n",
      "Epoch 10/50\n",
      "27/27 [==============================] - 1s 50ms/step - loss: 0.0659 - val_loss: 0.0457\n",
      "Epoch 11/50\n",
      "27/27 [==============================] - 1s 51ms/step - loss: 0.0648 - val_loss: 0.0450\n",
      "Epoch 12/50\n",
      "27/27 [==============================] - 1s 49ms/step - loss: 0.0631 - val_loss: 0.0445\n",
      "Epoch 13/50\n",
      "27/27 [==============================] - 1s 51ms/step - loss: 0.0623 - val_loss: 0.0440\n",
      "Epoch 14/50\n",
      "27/27 [==============================] - 1s 52ms/step - loss: 0.0614 - val_loss: 0.0436\n",
      "Epoch 15/50\n",
      "27/27 [==============================] - 1s 51ms/step - loss: 0.0604 - val_loss: 0.0433\n",
      "Epoch 16/50\n",
      "27/27 [==============================] - 1s 50ms/step - loss: 0.0595 - val_loss: 0.0429\n",
      "Epoch 17/50\n",
      "27/27 [==============================] - 1s 51ms/step - loss: 0.0588 - val_loss: 0.0425\n",
      "Epoch 18/50\n",
      "27/27 [==============================] - 1s 52ms/step - loss: 0.0580 - val_loss: 0.0423\n",
      "Epoch 19/50\n",
      "27/27 [==============================] - 1s 52ms/step - loss: 0.0572 - val_loss: 0.0420\n",
      "Epoch 20/50\n",
      "27/27 [==============================] - 1s 53ms/step - loss: 0.0566 - val_loss: 0.0417\n",
      "Epoch 21/50\n",
      "27/27 [==============================] - 1s 52ms/step - loss: 0.0560 - val_loss: 0.0415\n",
      "Epoch 22/50\n",
      "27/27 [==============================] - 1s 50ms/step - loss: 0.0555 - val_loss: 0.0412\n",
      "Epoch 23/50\n",
      "27/27 [==============================] - 1s 51ms/step - loss: 0.0550 - val_loss: 0.0410\n",
      "Epoch 24/50\n",
      "27/27 [==============================] - 1s 51ms/step - loss: 0.0546 - val_loss: 0.0407\n",
      "Epoch 25/50\n",
      "27/27 [==============================] - 1s 50ms/step - loss: 0.0541 - val_loss: 0.0406\n",
      "Epoch 26/50\n",
      "27/27 [==============================] - 1s 51ms/step - loss: 0.0535 - val_loss: 0.0403\n",
      "Epoch 27/50\n",
      "27/27 [==============================] - 1s 51ms/step - loss: 0.0531 - val_loss: 0.0401\n",
      "Epoch 28/50\n",
      "27/27 [==============================] - 1s 50ms/step - loss: 0.0526 - val_loss: 0.0399\n",
      "Epoch 29/50\n",
      "27/27 [==============================] - 1s 50ms/step - loss: 0.0522 - val_loss: 0.0397\n",
      "Epoch 30/50\n",
      "27/27 [==============================] - 1s 50ms/step - loss: 0.0519 - val_loss: 0.0394\n",
      "Epoch 31/50\n",
      "27/27 [==============================] - 1s 52ms/step - loss: 0.0514 - val_loss: 0.0393\n",
      "Epoch 32/50\n",
      "27/27 [==============================] - 1s 51ms/step - loss: 0.0511 - val_loss: 0.0391\n",
      "Epoch 33/50\n",
      "27/27 [==============================] - 1s 52ms/step - loss: 0.0508 - val_loss: 0.0389\n",
      "Epoch 34/50\n",
      "27/27 [==============================] - 1s 52ms/step - loss: 0.0503 - val_loss: 0.0387\n",
      "Epoch 35/50\n",
      "27/27 [==============================] - 2s 80ms/step - loss: 0.0501 - val_loss: 0.0385\n",
      "Epoch 36/50\n",
      "27/27 [==============================] - 2s 74ms/step - loss: 0.0496 - val_loss: 0.0383\n",
      "Epoch 37/50\n",
      "27/27 [==============================] - 2s 87ms/step - loss: 0.0493 - val_loss: 0.0381\n",
      "Epoch 38/50\n",
      "27/27 [==============================] - 2s 69ms/step - loss: 0.0491 - val_loss: 0.0380\n",
      "Epoch 39/50\n",
      "27/27 [==============================] - 2s 76ms/step - loss: 0.0486 - val_loss: 0.0378\n",
      "Epoch 40/50\n",
      "27/27 [==============================] - 2s 74ms/step - loss: 0.0485 - val_loss: 0.0377\n",
      "Epoch 41/50\n",
      "27/27 [==============================] - 2s 72ms/step - loss: 0.0481 - val_loss: 0.0375\n",
      "Epoch 42/50\n",
      "27/27 [==============================] - 2s 69ms/step - loss: 0.0478 - val_loss: 0.0373\n",
      "Epoch 43/50\n",
      "27/27 [==============================] - 2s 63ms/step - loss: 0.0476 - val_loss: 0.0372\n",
      "Epoch 44/50\n",
      "27/27 [==============================] - 2s 69ms/step - loss: 0.0474 - val_loss: 0.0370\n",
      "Epoch 45/50\n",
      "27/27 [==============================] - 2s 85ms/step - loss: 0.0470 - val_loss: 0.0370\n",
      "Epoch 46/50\n",
      "27/27 [==============================] - 3s 107ms/step - loss: 0.0469 - val_loss: 0.0367\n",
      "Epoch 47/50\n",
      "27/27 [==============================] - 3s 98ms/step - loss: 0.0465 - val_loss: 0.0367\n",
      "Epoch 48/50\n",
      "27/27 [==============================] - 2s 83ms/step - loss: 0.0462 - val_loss: 0.0365\n",
      "Epoch 49/50\n",
      "27/27 [==============================] - 2s 80ms/step - loss: 0.0460 - val_loss: 0.0363\n",
      "Epoch 50/50\n",
      "27/27 [==============================] - 2s 78ms/step - loss: 0.0457 - val_loss: 0.0362\n"
     ]
    },
    {
     "data": {
      "image/png": "[encoded data removed]",
      "text/plain": [
       "<Figure size 432x288 with 1 Axes>"
      ]
     },
     "metadata": {
      "needs_background": "light"
     },
     "output_type": "display_data"
    }
   ],
   "source": [
    "# здесь momentum=0.05\n",
    "model_SGD_momentum = keras.Sequential(\n",
    "    [\n",
    "        layers.Input(shape=(x_train.shape[1], x_train.shape[2])),\n",
    "        layers.Conv1D(\n",
    "            filters=32, kernel_size=7, padding=\"same\", strides=2, activation=\"relu\"\n",
    "        ),\n",
    "        layers.Dropout(rate=0.2),\n",
    "        layers.Conv1D(\n",
    "            filters=16, kernel_size=7, padding=\"same\", strides=2, activation=\"relu\"\n",
    "        ),\n",
    "        layers.Conv1DTranspose(\n",
    "            filters=16, kernel_size=7, padding=\"same\", strides=2, activation=\"relu\"\n",
    "        ),\n",
    "        layers.Dropout(rate=0.2),\n",
    "        layers.Conv1DTranspose(\n",
    "            filters=32, kernel_size=7, padding=\"same\", strides=2, activation=\"relu\"\n",
    "        ),\n",
    "        layers.Conv1DTranspose(filters=1, kernel_size=7, padding=\"same\"),\n",
    "    ]\n",
    ")\n",
    "model_SGD_momentum.compile(optimizer=keras.optimizers.SGD(learning_rate=0.01, momentum=0.05), loss=\"mse\")\n",
    "\n",
    "# Обучим её\n",
    "history_SGD_momentum = model_SGD_momentum.fit(\n",
    "    x_train,\n",
    "    x_train,\n",
    "    epochs=50,\n",
    "    batch_size=128,\n",
    "    validation_split=0.1,\n",
    "    callbacks=[\n",
    "        keras.callbacks.EarlyStopping(monitor=\"val_loss\", patience=5, mode=\"min\")\n",
    "    ],\n",
    ")\n",
    "\n",
    "# Посмотрим на графики процесса обучения\n",
    "plt.semilogy(history_SGD_momentum.history[\"loss\"], label=\"Training Loss\")\n",
    "plt.semilogy(history_SGD_momentum.history[\"val_loss\"], label=\"Validation Loss\")\n",
    "plt.ylabel('Loss value')\n",
    "plt.xlabel('epoch')\n",
    "plt.legend()\n",
    "plt.show()"
   ]
  },
  {
   "cell_type": "code",
   "execution_count": 79,
   "metadata": {
    "colab": {
     "base_uri": "https://localhost:8080/",
     "height": 1000
    },
    "id": "D7-BSDE56SxD",
    "outputId": "f598f6f4-208b-4c06-92d2-c0839dd1d1ba"
   },
   "outputs": [
    {
     "name": "stdout",
     "output_type": "stream",
     "text": [
      "Epoch 1/50\n",
      "27/27 [==============================] - 2s 59ms/step - loss: 0.2586 - val_loss: 0.0443\n",
      "Epoch 2/50\n",
      "27/27 [==============================] - 1s 51ms/step - loss: 0.0522 - val_loss: 0.0290\n",
      "Epoch 3/50\n",
      "27/27 [==============================] - 1s 52ms/step - loss: 0.0365 - val_loss: 0.0246\n",
      "Epoch 4/50\n",
      "27/27 [==============================] - 1s 50ms/step - loss: 0.0296 - val_loss: 0.0238\n",
      "Epoch 5/50\n",
      "27/27 [==============================] - 1s 50ms/step - loss: 0.0251 - val_loss: 0.0235\n",
      "Epoch 6/50\n",
      "27/27 [==============================] - 2s 58ms/step - loss: 0.0218 - val_loss: 0.0221\n",
      "Epoch 7/50\n",
      "27/27 [==============================] - 2s 63ms/step - loss: 0.0198 - val_loss: 0.0194\n",
      "Epoch 8/50\n",
      "27/27 [==============================] - 2s 70ms/step - loss: 0.0181 - val_loss: 0.0152\n",
      "Epoch 9/50\n",
      "27/27 [==============================] - 2s 75ms/step - loss: 0.0167 - val_loss: 0.0152\n",
      "Epoch 10/50\n",
      "27/27 [==============================] - 2s 72ms/step - loss: 0.0156 - val_loss: 0.0145\n",
      "Epoch 11/50\n",
      "27/27 [==============================] - 1s 52ms/step - loss: 0.0145 - val_loss: 0.0120\n",
      "Epoch 12/50\n",
      "27/27 [==============================] - 1s 53ms/step - loss: 0.0137 - val_loss: 0.0114\n",
      "Epoch 13/50\n",
      "27/27 [==============================] - 1s 51ms/step - loss: 0.0129 - val_loss: 0.0112\n",
      "Epoch 14/50\n",
      "27/27 [==============================] - 1s 51ms/step - loss: 0.0122 - val_loss: 0.0113\n",
      "Epoch 15/50\n",
      "27/27 [==============================] - 1s 52ms/step - loss: 0.0115 - val_loss: 0.0096\n",
      "Epoch 16/50\n",
      "27/27 [==============================] - 1s 50ms/step - loss: 0.0107 - val_loss: 0.0091\n",
      "Epoch 17/50\n",
      "27/27 [==============================] - 1s 52ms/step - loss: 0.0100 - val_loss: 0.0078\n",
      "Epoch 18/50\n",
      "27/27 [==============================] - 1s 52ms/step - loss: 0.0094 - val_loss: 0.0083\n",
      "Epoch 19/50\n",
      "27/27 [==============================] - 1s 52ms/step - loss: 0.0090 - val_loss: 0.0075\n",
      "Epoch 20/50\n",
      "27/27 [==============================] - 1s 51ms/step - loss: 0.0087 - val_loss: 0.0071\n",
      "Epoch 21/50\n",
      "27/27 [==============================] - 1s 51ms/step - loss: 0.0084 - val_loss: 0.0065\n",
      "Epoch 22/50\n",
      "27/27 [==============================] - 1s 51ms/step - loss: 0.0081 - val_loss: 0.0067\n",
      "Epoch 23/50\n",
      "27/27 [==============================] - 1s 52ms/step - loss: 0.0079 - val_loss: 0.0064\n",
      "Epoch 24/50\n",
      "27/27 [==============================] - 1s 51ms/step - loss: 0.0077 - val_loss: 0.0063\n",
      "Epoch 25/50\n",
      "27/27 [==============================] - 1s 52ms/step - loss: 0.0074 - val_loss: 0.0063\n",
      "Epoch 26/50\n",
      "27/27 [==============================] - 1s 52ms/step - loss: 0.0072 - val_loss: 0.0057\n",
      "Epoch 27/50\n",
      "27/27 [==============================] - 1s 52ms/step - loss: 0.0070 - val_loss: 0.0063\n",
      "Epoch 28/50\n",
      "27/27 [==============================] - 1s 51ms/step - loss: 0.0067 - val_loss: 0.0058\n",
      "Epoch 29/50\n",
      "27/27 [==============================] - 1s 52ms/step - loss: 0.0065 - val_loss: 0.0051\n",
      "Epoch 30/50\n",
      "27/27 [==============================] - 1s 51ms/step - loss: 0.0063 - val_loss: 0.0050\n",
      "Epoch 31/50\n",
      "27/27 [==============================] - 1s 50ms/step - loss: 0.0061 - val_loss: 0.0049\n",
      "Epoch 32/50\n",
      "27/27 [==============================] - 1s 51ms/step - loss: 0.0060 - val_loss: 0.0050\n",
      "Epoch 33/50\n",
      "27/27 [==============================] - 1s 51ms/step - loss: 0.0057 - val_loss: 0.0041\n",
      "Epoch 34/50\n",
      "27/27 [==============================] - 1s 51ms/step - loss: 0.0056 - val_loss: 0.0042\n",
      "Epoch 35/50\n",
      "27/27 [==============================] - 2s 69ms/step - loss: 0.0054 - val_loss: 0.0041\n",
      "Epoch 36/50\n",
      "27/27 [==============================] - 2s 58ms/step - loss: 0.0053 - val_loss: 0.0040\n",
      "Epoch 37/50\n",
      "27/27 [==============================] - 1s 53ms/step - loss: 0.0052 - val_loss: 0.0043\n",
      "Epoch 38/50\n",
      "27/27 [==============================] - 1s 51ms/step - loss: 0.0051 - val_loss: 0.0046\n",
      "Epoch 39/50\n",
      "27/27 [==============================] - 1s 52ms/step - loss: 0.0050 - val_loss: 0.0041\n",
      "Epoch 40/50\n",
      "27/27 [==============================] - 2s 68ms/step - loss: 0.0049 - val_loss: 0.0035\n",
      "Epoch 41/50\n",
      "27/27 [==============================] - 1s 55ms/step - loss: 0.0048 - val_loss: 0.0033\n",
      "Epoch 42/50\n",
      "27/27 [==============================] - 3s 121ms/step - loss: 0.0047 - val_loss: 0.0041\n",
      "Epoch 43/50\n",
      "27/27 [==============================] - 3s 102ms/step - loss: 0.0046 - val_loss: 0.0039\n",
      "Epoch 44/50\n",
      "27/27 [==============================] - 2s 85ms/step - loss: 0.0045 - val_loss: 0.0033\n",
      "Epoch 45/50\n",
      "27/27 [==============================] - 2s 75ms/step - loss: 0.0045 - val_loss: 0.0034\n",
      "Epoch 46/50\n",
      "27/27 [==============================] - 1s 51ms/step - loss: 0.0044 - val_loss: 0.0040\n",
      "Epoch 47/50\n",
      "27/27 [==============================] - 1s 51ms/step - loss: 0.0043 - val_loss: 0.0034\n",
      "Epoch 48/50\n",
      "27/27 [==============================] - 1s 52ms/step - loss: 0.0043 - val_loss: 0.0039\n",
      "Epoch 49/50\n",
      "27/27 [==============================] - 1s 51ms/step - loss: 0.0042 - val_loss: 0.0036\n"
     ]
    },
    {
     "data": {
      "image/png": "[encoded data removed]",
      "text/plain": [
       "<Figure size 432x288 with 1 Axes>"
      ]
     },
     "metadata": {
      "needs_background": "light"
     },
     "output_type": "display_data"
    }
   ],
   "source": [
    "# Аналогично попробуем для Adam method\n",
    "# learning_rate=0.005\n",
    "model_Adam = keras.Sequential(\n",
    "    [\n",
    "        layers.Input(shape=(x_train.shape[1], x_train.shape[2])),\n",
    "        layers.Conv1D(\n",
    "            filters=32, kernel_size=7, padding=\"same\", strides=2, activation=\"relu\"\n",
    "        ),\n",
    "        layers.Dropout(rate=0.2),\n",
    "        layers.Conv1D(\n",
    "            filters=16, kernel_size=7, padding=\"same\", strides=2, activation=\"relu\"\n",
    "        ),\n",
    "        layers.Conv1DTranspose(\n",
    "            filters=16, kernel_size=7, padding=\"same\", strides=2, activation=\"relu\"\n",
    "        ),\n",
    "        layers.Dropout(rate=0.2),\n",
    "        layers.Conv1DTranspose(\n",
    "            filters=32, kernel_size=7, padding=\"same\", strides=2, activation=\"relu\"\n",
    "        ),\n",
    "        layers.Conv1DTranspose(filters=1, kernel_size=7, padding=\"same\"),\n",
    "    ]\n",
    ")\n",
    "model_Adam.compile(optimizer=keras.optimizers.Adam(learning_rate=0.005), loss=\"mse\")\n",
    "\n",
    "# Обучим её\n",
    "history_Adam = model_Adam.fit(\n",
    "    x_train,\n",
    "    x_train,\n",
    "    epochs=50,\n",
    "    batch_size=128,\n",
    "    validation_split=0.1,\n",
    "    callbacks=[\n",
    "        keras.callbacks.EarlyStopping(monitor=\"val_loss\", patience=5, mode=\"min\")\n",
    "    ],\n",
    ")\n",
    "\n",
    "# Посмотрим на графики процесса обучения\n",
    "plt.semilogy(history_Adam.history[\"loss\"], label=\"Training Loss\")\n",
    "plt.semilogy(history_Adam.history[\"val_loss\"], label=\"Validation Loss\")\n",
    "plt.ylabel('Loss value')\n",
    "plt.xlabel('epoch')\n",
    "plt.legend()\n",
    "plt.show()"
   ]
  },
  {
   "cell_type": "code",
   "execution_count": 80,
   "metadata": {
    "colab": {
     "base_uri": "https://localhost:8080/",
     "height": 878
    },
    "id": "kyu5bvTc9JU5",
    "outputId": "7f2ecb07-a083-4eb6-a354-88ba4b632159"
   },
   "outputs": [
    {
     "name": "stdout",
     "output_type": "stream",
     "text": [
      "Epoch 1/50\n",
      "27/27 [==============================] - 3s 92ms/step - loss: 0.2014 - val_loss: 0.0846\n",
      "Epoch 2/50\n",
      "27/27 [==============================] - 2s 74ms/step - loss: 0.0682 - val_loss: 0.0300\n",
      "Epoch 3/50\n",
      "27/27 [==============================] - 1s 51ms/step - loss: 0.0446 - val_loss: 0.0428\n",
      "Epoch 4/50\n",
      "27/27 [==============================] - 1s 49ms/step - loss: 0.0277 - val_loss: 0.0216\n",
      "Epoch 5/50\n",
      "27/27 [==============================] - 1s 50ms/step - loss: 0.0191 - val_loss: 0.0154\n",
      "Epoch 6/50\n",
      "27/27 [==============================] - 1s 51ms/step - loss: 0.0160 - val_loss: 0.0102\n",
      "Epoch 7/50\n",
      "27/27 [==============================] - 1s 51ms/step - loss: 0.0133 - val_loss: 0.0104\n",
      "Epoch 8/50\n",
      "27/27 [==============================] - 1s 52ms/step - loss: 0.0120 - val_loss: 0.0071\n",
      "Epoch 9/50\n",
      "27/27 [==============================] - 1s 50ms/step - loss: 0.0104 - val_loss: 0.0078\n",
      "Epoch 10/50\n",
      "27/27 [==============================] - 1s 51ms/step - loss: 0.0095 - val_loss: 0.0050\n",
      "Epoch 11/50\n",
      "27/27 [==============================] - 2s 60ms/step - loss: 0.0089 - val_loss: 0.0072\n",
      "Epoch 12/50\n",
      "27/27 [==============================] - 2s 70ms/step - loss: 0.0090 - val_loss: 0.0078\n",
      "Epoch 13/50\n",
      "27/27 [==============================] - 1s 50ms/step - loss: 0.0085 - val_loss: 0.0054\n",
      "Epoch 14/50\n",
      "27/27 [==============================] - 1s 50ms/step - loss: 0.0082 - val_loss: 0.0054\n",
      "Epoch 15/50\n",
      "27/27 [==============================] - 1s 52ms/step - loss: 0.0079 - val_loss: 0.0057\n"
     ]
    },
    {
     "data": {
      "image/png": "[encoded data removed]",
      "text/plain": [
       "<Figure size 432x288 with 1 Axes>"
      ]
     },
     "metadata": {
      "needs_background": "light"
     },
     "output_type": "display_data"
    }
   ],
   "source": [
    "# beta_1=0.5, beta_2=0.5\n",
    "model_Adam = keras.Sequential(\n",
    "    [\n",
    "        layers.Input(shape=(x_train.shape[1], x_train.shape[2])),\n",
    "        layers.Conv1D(\n",
    "            filters=32, kernel_size=7, padding=\"same\", strides=2, activation=\"relu\"\n",
    "        ),\n",
    "        layers.Dropout(rate=0.2),\n",
    "        layers.Conv1D(\n",
    "            filters=16, kernel_size=7, padding=\"same\", strides=2, activation=\"relu\"\n",
    "        ),\n",
    "        layers.Conv1DTranspose(\n",
    "            filters=16, kernel_size=7, padding=\"same\", strides=2, activation=\"relu\"\n",
    "        ),\n",
    "        layers.Dropout(rate=0.2),\n",
    "        layers.Conv1DTranspose(\n",
    "            filters=32, kernel_size=7, padding=\"same\", strides=2, activation=\"relu\"\n",
    "        ),\n",
    "        layers.Conv1DTranspose(filters=1, kernel_size=7, padding=\"same\"),\n",
    "    ]\n",
    ")\n",
    "model_Adam.compile(optimizer=keras.optimizers.Adam(learning_rate=0.01, beta_1=0.5, beta_2=0.5), loss=\"mse\")\n",
    "\n",
    "# Обучим её\n",
    "history_Adam = model_Adam.fit(\n",
    "    x_train,\n",
    "    x_train,\n",
    "    epochs=50,\n",
    "    batch_size=128,\n",
    "    validation_split=0.1,\n",
    "    callbacks=[\n",
    "        keras.callbacks.EarlyStopping(monitor=\"val_loss\", patience=5, mode=\"min\")\n",
    "    ],\n",
    ")\n",
    "\n",
    "# Посмотрим на графики процесса обучения\n",
    "plt.semilogy(history_Adam.history[\"loss\"], label=\"Training Loss\")\n",
    "plt.semilogy(history_Adam.history[\"val_loss\"], label=\"Validation Loss\")\n",
    "plt.ylabel('Loss value')\n",
    "plt.xlabel('epoch')\n",
    "plt.legend()\n",
    "plt.show()"
   ]
  },
  {
   "cell_type": "code",
   "execution_count": 81,
   "metadata": {
    "colab": {
     "base_uri": "https://localhost:8080/",
     "height": 1000
    },
    "id": "ouEhvC1U9Jjg",
    "outputId": "01102210-600a-474b-87d2-00d59decd1df"
   },
   "outputs": [
    {
     "name": "stdout",
     "output_type": "stream",
     "text": [
      "Epoch 1/50\n",
      "27/27 [==============================] - 2s 59ms/step - loss: 0.4768 - val_loss: 0.0859\n",
      "Epoch 2/50\n",
      "27/27 [==============================] - 1s 52ms/step - loss: 0.0707 - val_loss: 0.0349\n",
      "Epoch 3/50\n",
      "27/27 [==============================] - 1s 53ms/step - loss: 0.0396 - val_loss: 0.0277\n",
      "Epoch 4/50\n",
      "27/27 [==============================] - 1s 53ms/step - loss: 0.0324 - val_loss: 0.0234\n",
      "Epoch 5/50\n",
      "27/27 [==============================] - 1s 52ms/step - loss: 0.0276 - val_loss: 0.0212\n",
      "Epoch 6/50\n",
      "27/27 [==============================] - 1s 53ms/step - loss: 0.0249 - val_loss: 0.0200\n",
      "Epoch 7/50\n",
      "27/27 [==============================] - 1s 53ms/step - loss: 0.0227 - val_loss: 0.0186\n",
      "Epoch 8/50\n",
      "27/27 [==============================] - 1s 53ms/step - loss: 0.0210 - val_loss: 0.0178\n",
      "Epoch 9/50\n",
      "27/27 [==============================] - 1s 52ms/step - loss: 0.0197 - val_loss: 0.0173\n",
      "Epoch 10/50\n",
      "27/27 [==============================] - 2s 67ms/step - loss: 0.0187 - val_loss: 0.0164\n",
      "Epoch 11/50\n",
      "27/27 [==============================] - 2s 83ms/step - loss: 0.0178 - val_loss: 0.0158\n",
      "Epoch 12/50\n",
      "27/27 [==============================] - 2s 78ms/step - loss: 0.0170 - val_loss: 0.0151\n",
      "Epoch 13/50\n",
      "27/27 [==============================] - 2s 78ms/step - loss: 0.0164 - val_loss: 0.0147\n",
      "Epoch 14/50\n",
      "27/27 [==============================] - 2s 59ms/step - loss: 0.0158 - val_loss: 0.0142\n",
      "Epoch 15/50\n",
      "27/27 [==============================] - 1s 52ms/step - loss: 0.0154 - val_loss: 0.0139\n",
      "Epoch 16/50\n",
      "27/27 [==============================] - 1s 52ms/step - loss: 0.0149 - val_loss: 0.0134\n",
      "Epoch 17/50\n",
      "27/27 [==============================] - 1s 52ms/step - loss: 0.0146 - val_loss: 0.0132\n",
      "Epoch 18/50\n",
      "27/27 [==============================] - 1s 53ms/step - loss: 0.0143 - val_loss: 0.0131\n",
      "Epoch 19/50\n",
      "27/27 [==============================] - 1s 52ms/step - loss: 0.0140 - val_loss: 0.0128\n",
      "Epoch 20/50\n",
      "27/27 [==============================] - 1s 52ms/step - loss: 0.0137 - val_loss: 0.0123\n",
      "Epoch 21/50\n",
      "27/27 [==============================] - 1s 53ms/step - loss: 0.0135 - val_loss: 0.0123\n",
      "Epoch 22/50\n",
      "27/27 [==============================] - 1s 51ms/step - loss: 0.0132 - val_loss: 0.0120\n",
      "Epoch 23/50\n",
      "27/27 [==============================] - 1s 53ms/step - loss: 0.0130 - val_loss: 0.0120\n",
      "Epoch 24/50\n",
      "27/27 [==============================] - 1s 51ms/step - loss: 0.0129 - val_loss: 0.0120\n",
      "Epoch 25/50\n",
      "27/27 [==============================] - 1s 50ms/step - loss: 0.0125 - val_loss: 0.0118\n",
      "Epoch 26/50\n",
      "27/27 [==============================] - 1s 52ms/step - loss: 0.0124 - val_loss: 0.0115\n",
      "Epoch 27/50\n",
      "27/27 [==============================] - 1s 50ms/step - loss: 0.0122 - val_loss: 0.0113\n",
      "Epoch 28/50\n",
      "27/27 [==============================] - 1s 53ms/step - loss: 0.0120 - val_loss: 0.0110\n",
      "Epoch 29/50\n",
      "27/27 [==============================] - 1s 55ms/step - loss: 0.0118 - val_loss: 0.0111\n",
      "Epoch 30/50\n",
      "27/27 [==============================] - 1s 53ms/step - loss: 0.0115 - val_loss: 0.0107\n",
      "Epoch 31/50\n",
      "27/27 [==============================] - 1s 52ms/step - loss: 0.0114 - val_loss: 0.0104\n",
      "Epoch 32/50\n",
      "27/27 [==============================] - 1s 52ms/step - loss: 0.0112 - val_loss: 0.0105\n",
      "Epoch 33/50\n",
      "27/27 [==============================] - 1s 52ms/step - loss: 0.0111 - val_loss: 0.0105\n",
      "Epoch 34/50\n",
      "27/27 [==============================] - 1s 53ms/step - loss: 0.0109 - val_loss: 0.0102\n",
      "Epoch 35/50\n",
      "27/27 [==============================] - 1s 53ms/step - loss: 0.0108 - val_loss: 0.0101\n",
      "Epoch 36/50\n",
      "27/27 [==============================] - 1s 54ms/step - loss: 0.0106 - val_loss: 0.0100\n",
      "Epoch 37/50\n",
      "27/27 [==============================] - 1s 53ms/step - loss: 0.0105 - val_loss: 0.0099\n",
      "Epoch 38/50\n",
      "27/27 [==============================] - 1s 53ms/step - loss: 0.0102 - val_loss: 0.0097\n",
      "Epoch 39/50\n",
      "27/27 [==============================] - 1s 52ms/step - loss: 0.0101 - val_loss: 0.0097\n",
      "Epoch 40/50\n",
      "27/27 [==============================] - 1s 52ms/step - loss: 0.0099 - val_loss: 0.0093\n",
      "Epoch 41/50\n",
      "27/27 [==============================] - 1s 51ms/step - loss: 0.0099 - val_loss: 0.0098\n",
      "Epoch 42/50\n",
      "27/27 [==============================] - 1s 53ms/step - loss: 0.0097 - val_loss: 0.0094\n",
      "Epoch 43/50\n",
      "27/27 [==============================] - 1s 55ms/step - loss: 0.0095 - val_loss: 0.0095\n",
      "Epoch 44/50\n",
      "27/27 [==============================] - 1s 54ms/step - loss: 0.0094 - val_loss: 0.0095\n",
      "Epoch 45/50\n",
      "27/27 [==============================] - 1s 52ms/step - loss: 0.0093 - val_loss: 0.0093\n",
      "Epoch 46/50\n",
      "27/27 [==============================] - 1s 52ms/step - loss: 0.0092 - val_loss: 0.0092\n",
      "Epoch 47/50\n",
      "27/27 [==============================] - 1s 52ms/step - loss: 0.0091 - val_loss: 0.0091\n",
      "Epoch 48/50\n",
      "27/27 [==============================] - 1s 53ms/step - loss: 0.0090 - val_loss: 0.0093\n",
      "Epoch 49/50\n",
      "27/27 [==============================] - 1s 53ms/step - loss: 0.0089 - val_loss: 0.0093\n",
      "Epoch 50/50\n",
      "27/27 [==============================] - 1s 53ms/step - loss: 0.0087 - val_loss: 0.0089\n"
     ]
    },
    {
     "data": {
      "image/png": "[encoded data removed]",
      "text/plain": [
       "<Figure size 432x288 with 1 Axes>"
      ]
     },
     "metadata": {
      "needs_background": "light"
     },
     "output_type": "display_data"
    }
   ],
   "source": [
    "# amsgrad=True\n",
    "model_Adam = keras.Sequential(\n",
    "    [\n",
    "        layers.Input(shape=(x_train.shape[1], x_train.shape[2])),\n",
    "        layers.Conv1D(\n",
    "            filters=32, kernel_size=7, padding=\"same\", strides=2, activation=\"relu\"\n",
    "        ),\n",
    "        layers.Dropout(rate=0.2),\n",
    "        layers.Conv1D(\n",
    "            filters=16, kernel_size=7, padding=\"same\", strides=2, activation=\"relu\"\n",
    "        ),\n",
    "        layers.Conv1DTranspose(\n",
    "            filters=16, kernel_size=7, padding=\"same\", strides=2, activation=\"relu\"\n",
    "        ),\n",
    "        layers.Dropout(rate=0.2),\n",
    "        layers.Conv1DTranspose(\n",
    "            filters=32, kernel_size=7, padding=\"same\", strides=2, activation=\"relu\"\n",
    "        ),\n",
    "        layers.Conv1DTranspose(filters=1, kernel_size=7, padding=\"same\"),\n",
    "    ]\n",
    ")\n",
    "model_Adam.compile(optimizer=keras.optimizers.Adam(learning_rate=0.01, amsgrad=True), loss=\"mse\")\n",
    "\n",
    "# Обучим её\n",
    "history_Adam = model_Adam.fit(\n",
    "    x_train,\n",
    "    x_train,\n",
    "    epochs=50,\n",
    "    batch_size=128,\n",
    "    validation_split=0.1,\n",
    "    callbacks=[\n",
    "        keras.callbacks.EarlyStopping(monitor=\"val_loss\", patience=5, mode=\"min\")\n",
    "    ],\n",
    ")\n",
    "\n",
    "# Посмотрим на графики процесса обучения\n",
    "plt.semilogy(history_Adam.history[\"loss\"], label=\"Training Loss\")\n",
    "plt.semilogy(history_Adam.history[\"val_loss\"], label=\"Validation Loss\")\n",
    "plt.ylabel('Loss value')\n",
    "plt.xlabel('epoch')\n",
    "plt.legend()\n",
    "plt.show()"
   ]
  },
  {
   "cell_type": "markdown",
   "metadata": {
    "id": "7_KXBxEF_xTA"
   },
   "source": [
    "Из небольших проведённых тестов:\n",
    "\n",
    "Для Adam optimizer наилучшие результаты получились с параметрами learning_rate=0.01, amsgrad=True и дефолтными betta.\n",
    "\n",
    "Для градиентного спуска с learning_rate=0.01, использованием deсay (полиномиальным), momentum=0, Nesterov=False."
   ]
  },
  {
   "cell_type": "markdown",
   "metadata": {
    "id": "YIme_FcBX_Nz"
   },
   "source": [
    "[Link](https://colab.research.google.com/github/wandb/examples/blob/master/colabs/keras/Simple_Keras_Integration.ipynb) to the keras + wandb."
   ]
  },
  {
   "cell_type": "code",
   "execution_count": 83,
   "metadata": {
    "id": "HrN5PgyzYDeG"
   },
   "outputs": [],
   "source": [
    "%%capture\n",
    "!pip install wandb"
   ]
  },
  {
   "cell_type": "code",
   "execution_count": 84,
   "metadata": {
    "colab": {
     "base_uri": "https://localhost:8080/"
    },
    "id": "qWQriTbvYI9t",
    "outputId": "da10cf0d-857d-486d-9da9-15fc502a4029"
   },
   "outputs": [
    {
     "name": "stdout",
     "output_type": "stream",
     "text": [
      "\u001b[34m\u001b[1mwandb\u001b[0m: You can find your API key in your browser here: https://wandb.ai/authorize\n",
      "\u001b[34m\u001b[1mwandb\u001b[0m: Paste an API key from your profile and hit enter, or press ctrl+c to quit: \n",
      "\u001b[34m\u001b[1mwandb\u001b[0m: Appending key for api.wandb.ai to your netrc file: /root/.netrc\n"
     ]
    }
   ],
   "source": [
    "import wandb\n",
    "from wandb.keras import WandbCallback\n",
    "\n",
    "!wandb login"
   ]
  },
  {
   "cell_type": "code",
   "execution_count": 85,
   "metadata": {
    "colab": {
     "base_uri": "https://localhost:8080/",
     "height": 96
    },
    "id": "qqUqJbbDYMcF",
    "outputId": "f56b170d-77aa-4200-eeda-6f9c7fc41b34"
   },
   "outputs": [
    {
     "name": "stderr",
     "output_type": "stream",
     "text": [
      "\u001b[34m\u001b[1mwandb\u001b[0m: Currently logged in as: \u001b[33mnancat\u001b[0m (\u001b[33msuperteam\u001b[0m). Use \u001b[1m`wandb login --relogin`\u001b[0m to force relogin\n"
     ]
    },
    {
     "data": {
      "text/html": [
       "Tracking run with wandb version 0.12.16"
      ],
      "text/plain": [
       "<IPython.core.display.HTML object>"
      ]
     },
     "metadata": {},
     "output_type": "display_data"
    },
    {
     "data": {
      "text/html": [
       "Run data is saved locally in <code>/content/wandb/run-20220508_184115-uo1z95wa</code>"
      ],
      "text/plain": [
       "<IPython.core.display.HTML object>"
      ]
     },
     "metadata": {},
     "output_type": "display_data"
    },
    {
     "data": {
      "text/html": [
       "Syncing run <strong><a href=\"https://wandb.ai/superteam/my-keras-integration/runs/uo1z95wa\" target=\"_blank\">dark-voice-1</a></strong> to <a href=\"https://wandb.ai/superteam/my-keras-integration\" target=\"_blank\">Weights & Biases</a> (<a href=\"https://wandb.me/run\" target=\"_blank\">docs</a>)<br/>"
      ],
      "text/plain": [
       "<IPython.core.display.HTML object>"
      ]
     },
     "metadata": {},
     "output_type": "display_data"
    }
   ],
   "source": [
    "# Initialize wandb with your project name\n",
    "run = wandb.init(project='my-keras-integration',\n",
    "                 config={  # and include hyperparameters and metadata\n",
    "                     \"learning_rate\": 0.01,\n",
    "                     \"epochs\": 50,\n",
    "                     \"batch_size\": 128,\n",
    "                     \"loss_function\": \"mse\",\n",
    "                     \"architecture\": \"Autoencoder\",\n",
    "                     \"dataset\": \"Daily anomaly\"\n",
    "                 })\n",
    "config = wandb.config  # We'll use this to configure our experiment"
   ]
  },
  {
   "cell_type": "code",
   "execution_count": null,
   "metadata": {
    "id": "iqErGjS5-bNm"
   },
   "outputs": [],
   "source": []
  }
 ],
 "metadata": {
  "colab": {
   "collapsed_sections": [],
   "name": "Zharova_HW2",
   "provenance": []
  },
  "kernelspec": {
   "display_name": "Python 3 (ipykernel)",
   "language": "python",
   "name": "python3"
  },
  "language_info": {
   "codemirror_mode": {
    "name": "ipython",
    "version": 3
   },
   "file_extension": ".py",
   "mimetype": "text/x-python",
   "name": "python",
   "nbconvert_exporter": "python",
   "pygments_lexer": "ipython3",
   "version": "3.9.7"
  }
 },
 "nbformat": 4,
 "nbformat_minor": 1
}
